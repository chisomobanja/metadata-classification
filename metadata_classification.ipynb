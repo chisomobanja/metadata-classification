{
  "cells": [
    {
      "cell_type": "markdown",
      "metadata": {
        "id": "view-in-github",
        "colab_type": "text"
      },
      "source": [
        "<a href=\"https://colab.research.google.com/github/chisomobanja/metadata-classification/blob/main/metadata_classification.ipynb\" target=\"_parent\"><img src=\"https://colab.research.google.com/assets/colab-badge.svg\" alt=\"Open In Colab\"/></a>"
      ]
    },
    {
      "cell_type": "markdown",
      "metadata": {
        "id": "lsEm1EomGRup"
      },
      "source": [
        "# 1. Business Understanding\n",
        "\n",
        "## 1.1 Problem statement\n",
        "Many articles published in UNZA journals have incomplete or inconsistent descriptive metadata (e.g., missing author names, publication dates, keywords, abstracts). This makes it difficult for researchers or librarians to correctly cite articles. We need a way to automatically classify the completeness of metadata associated with each article, so we can identify gaps and improve metadata quality.\n",
        "\n",
        "##1.2 Business Objectives\n",
        "\n",
        "\n",
        " 1. Automate Metadata Completeness Classification.\n",
        "\n",
        " 2. Diagnose Metadata Gaps Across UNZA journels.\n",
        "\n",
        " 3. improve Citation Accuracy and Research Discoverability.\n",
        "\n",
        " 4. Standaridise Metadata Practices.\n",
        "\n",
        " 5. Establish Sustainable Metadata Governance.\n",
        "\n",
        "\n",
        "### 1.2.1 What success might look like in real life :\n",
        "\n",
        "  - Metadata Completeness where each article recieves a scored ranging from 0% to 100% based on the presence of key metadata.\n",
        "\n",
        "  - Reduction in Incomplete Records where number of articles with missing metadata drops by a good percentage like 70%.\n",
        "\n",
        "\n",
        "- Improved Citation Quality where there is a great reduction in citation errors by researchers and librarians.\n",
        "\n",
        "- Metadata validation reduces manual correction workload by a great percentage.\n",
        "\n",
        "- Metadata audits and contributor training are institutionalised in various departments.\n",
        "\n",
        "## 1.3 Translating business objectives into data mining goals\n",
        "To achieve the above business objectives, our project will focus on developing a robust classification model capable of automatically evaluating the completeness of descriptive metadata for articles in UNZA journals. Specifically:\n",
        "- Build a supervised classification model that categorizes articles into defined completeness levels — for example:\n",
        "\n",
        "  -Complete (all required metadata fields present),\n",
        "\n",
        "  -Partially Complete (some key fields missing),\n",
        "\n",
        "  -Incomplete (major fields missing).\n",
        "- Train and validate the model using historical article metadata records, where completeness has been manually assessed, ensuring the model can generalize to new, unseen records.\n",
        "- Leverage appropriate features from metadata fields such as title, author(s), publication date, keywords, abstract, DOI, and journal name to determine the completeness score/class.\n",
        "- Enable metadata quality insights by aggregating classification results to identify common gaps across journals, which will guide targeted improvements and policy enforcement.\n",
        "- Set measurable model performance targets — e.g., at least 85% classification accuracy for predicting completeness categories on test data.\n",
        "\n",
        "## 1.4 Initial Project Success Criteria\n",
        "We’ll know our project is successful when we can clearly see improvements in both the quality of metadata and the ease of managing it. Specifically:\n",
        "\n",
        "1. ### Accurate classifications\n",
        "   Our model should correctly predict whether an article’s metadata is complete, partially complete, or incomplete at least 85% of the time. It should also be especially reliable in spotting incomplete records, with precision and recall above 80%.\n",
        "\n",
        "2. ### Trustworthy completeness scores\n",
        "   When we compare the system’s completeness scores to manual librarian checks, the difference should be very small ideally less than 5%.\n",
        "\n",
        "3. ### Noticeable improvement in records  \n",
        "   Within a period of time, the number of articles with missing or incomplete metadata should drop by at least half in the journals we focus on.\n",
        "\n",
        "4. ### Smooth workflow integration  \n",
        "   The tool should fit into the existing UNZA journal processes without slowing things down, allowing continuous checks without extra hassle.\n",
        "\n",
        "5. ### Positive user feedback  \n",
        "   Librarians, editors, and contributors should find the tool easy to use and report that it saves them time and reduces the amount of manual fixing they have to do.\n",
        "\n",
        "\n",
        "##1.5 Next Steps\n",
        "\n",
        "To move forward, we will begin by collecting and preparing metadata samples from existing UNZA journal articles. This includes labelling records for completeness and identifying key metadata fields. We will then design and test initial classification models, refining them based on performance metrics. Parallel to model development, we’ll engage stakeholders (librarians, editors, contributors) to ensure the solution aligns with their workflows and needs. Once validated, the tool will be piloted on select journals before broader deployment.\n",
        "\n",
        "# 2. Data Understanding\n"
      ]
    },
    {
      "cell_type": "code",
      "source": [
        "from google.colab import drive\n",
        "drive.mount('/content/drive')\n"
      ],
      "metadata": {
        "colab": {
          "base_uri": "https://localhost:8080/"
        },
        "id": "TY4HGTN3KfCE",
        "outputId": "bfd338f2-2f3c-4da1-8121-4b745d50e547"
      },
      "execution_count": 10,
      "outputs": [
        {
          "output_type": "stream",
          "name": "stdout",
          "text": [
            "Drive already mounted at /content/drive; to attempt to forcibly remount, call drive.mount(\"/content/drive\", force_remount=True).\n"
          ]
        }
      ]
    },
    {
      "cell_type": "code",
      "source": [
        "import pandas as pd\n",
        "import numpy as np\n",
        "import matplotlib.pyplot as plt\n",
        "import seaborn as sns\n",
        "import warnings\n",
        "warnings.filterwarnings('ignore')\n",
        "\n",
        "# Loading the dataset\n",
        "var_dataset = pd.read_csv('/content/drive/MyDrive/metadata-classification-shortcut/misc-unza25-csc4792-project_team7/Metadata_classification_dataset - Sheet1.csv')\n",
        "\n",
        "\n"
      ],
      "metadata": {
        "colab": {
          "base_uri": "https://localhost:8080/"
        },
        "id": "3XTEHHsuPVfD",
        "outputId": "f84e637e-317c-47e3-ba0d-666bf9533077"
      },
      "execution_count": 11,
      "outputs": [
        {
          "output_type": "stream",
          "name": "stdout",
          "text": [
            "Shape: (259, 11)\n"
          ]
        }
      ]
    },
    {
      "cell_type": "code",
      "source": [
        "var_dataset.head()"
      ],
      "metadata": {
        "colab": {
          "base_uri": "https://localhost:8080/",
          "height": 591
        },
        "id": "qyhKqPobQPfh",
        "outputId": "80cb5546-a42d-451f-8c12-08835f2380d9"
      },
      "execution_count": 16,
      "outputs": [
        {
          "output_type": "execute_result",
          "data": {
            "text/plain": [
              "                                               Title Date Published  \\\n",
              "0  Politics of gender in sports administration an...     2021-06-30   \n",
              "1  Distance education students’ experiences of in...     2021-06-30   \n",
              "2  Social Cash Transfer mediating socio-economic ...     2021-06-30   \n",
              "3  Theatre for development: a creative strategy f...     2021-06-30   \n",
              "4  Youth and adult literacy in Zambia, alternativ...     2021-06-30   \n",
              "\n",
              "                                             Authors Article_ID  \\\n",
              "0                  Mbale G Tamela; Madalitso K Banja    JAE_001   \n",
              "1  Musonda Luchembe; Peter C Sampa; Daniel L Mpol...    JAE_002   \n",
              "2  Serah Kabamba; Collins C Kayangula; Noah K Sic...    JAE_003   \n",
              "3                          Brian Kombe; Emmy H Mbozi    JAE_004   \n",
              "4                  Choolwe Kang'ombe; Noah K Sichula    JAE_005   \n",
              "\n",
              "                                            Abstract  \\\n",
              "0  This was a phenomenological study aimed at inv...   \n",
              "1  Although informal learning is an important way...   \n",
              "2  The study aimed at investigating how community...   \n",
              "3  This article is based on a study that sought t...   \n",
              "4  This qualitative exploratory article attempted...   \n",
              "\n",
              "                                            Keywords  \\\n",
              "0  Access to opportunities, gender, gender stereo...   \n",
              "1  Informal learning, informal study group, inter...   \n",
              "2  Elderly, social inequality mediation, social c...   \n",
              "3  Theatre for Development, community, Conscienti...   \n",
              "4  Adult literacy, adult literacy policy, curricu...   \n",
              "\n",
              "                      Journal  Issue  Volume  DOI  \\\n",
              "0  Journal of Adult Education      2       2  NaN   \n",
              "1  Journal of Adult Education      2       2  NaN   \n",
              "2  Journal of Adult Education      2       2  NaN   \n",
              "3  Journal of Adult Education      2       2  NaN   \n",
              "4  Journal of Adult Education      2       2  NaN   \n",
              "\n",
              "                                                 URL  \n",
              "0  https://journals.unza.zm/index.php/JAE/article...  \n",
              "1  https://journals.unza.zm/index.php/JAE/article...  \n",
              "2  https://journals.unza.zm/index.php/JAE/article...  \n",
              "3  https://journals.unza.zm/index.php/JAE/article...  \n",
              "4  https://journals.unza.zm/index.php/JAE/article...  "
            ],
            "text/html": [
              "\n",
              "  <div id=\"df-8eb09f01-7d6a-4f52-83c6-5f6a132c7fe5\" class=\"colab-df-container\">\n",
              "    <div>\n",
              "<style scoped>\n",
              "    .dataframe tbody tr th:only-of-type {\n",
              "        vertical-align: middle;\n",
              "    }\n",
              "\n",
              "    .dataframe tbody tr th {\n",
              "        vertical-align: top;\n",
              "    }\n",
              "\n",
              "    .dataframe thead th {\n",
              "        text-align: right;\n",
              "    }\n",
              "</style>\n",
              "<table border=\"1\" class=\"dataframe\">\n",
              "  <thead>\n",
              "    <tr style=\"text-align: right;\">\n",
              "      <th></th>\n",
              "      <th>Title</th>\n",
              "      <th>Date Published</th>\n",
              "      <th>Authors</th>\n",
              "      <th>Article_ID</th>\n",
              "      <th>Abstract</th>\n",
              "      <th>Keywords</th>\n",
              "      <th>Journal</th>\n",
              "      <th>Issue</th>\n",
              "      <th>Volume</th>\n",
              "      <th>DOI</th>\n",
              "      <th>URL</th>\n",
              "    </tr>\n",
              "  </thead>\n",
              "  <tbody>\n",
              "    <tr>\n",
              "      <th>0</th>\n",
              "      <td>Politics of gender in sports administration an...</td>\n",
              "      <td>2021-06-30</td>\n",
              "      <td>Mbale G Tamela; Madalitso K Banja</td>\n",
              "      <td>JAE_001</td>\n",
              "      <td>This was a phenomenological study aimed at inv...</td>\n",
              "      <td>Access to opportunities, gender, gender stereo...</td>\n",
              "      <td>Journal of Adult Education</td>\n",
              "      <td>2</td>\n",
              "      <td>2</td>\n",
              "      <td>NaN</td>\n",
              "      <td>https://journals.unza.zm/index.php/JAE/article...</td>\n",
              "    </tr>\n",
              "    <tr>\n",
              "      <th>1</th>\n",
              "      <td>Distance education students’ experiences of in...</td>\n",
              "      <td>2021-06-30</td>\n",
              "      <td>Musonda Luchembe; Peter C Sampa; Daniel L Mpol...</td>\n",
              "      <td>JAE_002</td>\n",
              "      <td>Although informal learning is an important way...</td>\n",
              "      <td>Informal learning, informal study group, inter...</td>\n",
              "      <td>Journal of Adult Education</td>\n",
              "      <td>2</td>\n",
              "      <td>2</td>\n",
              "      <td>NaN</td>\n",
              "      <td>https://journals.unza.zm/index.php/JAE/article...</td>\n",
              "    </tr>\n",
              "    <tr>\n",
              "      <th>2</th>\n",
              "      <td>Social Cash Transfer mediating socio-economic ...</td>\n",
              "      <td>2021-06-30</td>\n",
              "      <td>Serah Kabamba; Collins C Kayangula; Noah K Sic...</td>\n",
              "      <td>JAE_003</td>\n",
              "      <td>The study aimed at investigating how community...</td>\n",
              "      <td>Elderly, social inequality mediation, social c...</td>\n",
              "      <td>Journal of Adult Education</td>\n",
              "      <td>2</td>\n",
              "      <td>2</td>\n",
              "      <td>NaN</td>\n",
              "      <td>https://journals.unza.zm/index.php/JAE/article...</td>\n",
              "    </tr>\n",
              "    <tr>\n",
              "      <th>3</th>\n",
              "      <td>Theatre for development: a creative strategy f...</td>\n",
              "      <td>2021-06-30</td>\n",
              "      <td>Brian Kombe; Emmy H Mbozi</td>\n",
              "      <td>JAE_004</td>\n",
              "      <td>This article is based on a study that sought t...</td>\n",
              "      <td>Theatre for Development, community, Conscienti...</td>\n",
              "      <td>Journal of Adult Education</td>\n",
              "      <td>2</td>\n",
              "      <td>2</td>\n",
              "      <td>NaN</td>\n",
              "      <td>https://journals.unza.zm/index.php/JAE/article...</td>\n",
              "    </tr>\n",
              "    <tr>\n",
              "      <th>4</th>\n",
              "      <td>Youth and adult literacy in Zambia, alternativ...</td>\n",
              "      <td>2021-06-30</td>\n",
              "      <td>Choolwe Kang'ombe; Noah K Sichula</td>\n",
              "      <td>JAE_005</td>\n",
              "      <td>This qualitative exploratory article attempted...</td>\n",
              "      <td>Adult literacy, adult literacy policy, curricu...</td>\n",
              "      <td>Journal of Adult Education</td>\n",
              "      <td>2</td>\n",
              "      <td>2</td>\n",
              "      <td>NaN</td>\n",
              "      <td>https://journals.unza.zm/index.php/JAE/article...</td>\n",
              "    </tr>\n",
              "  </tbody>\n",
              "</table>\n",
              "</div>\n",
              "    <div class=\"colab-df-buttons\">\n",
              "\n",
              "  <div class=\"colab-df-container\">\n",
              "    <button class=\"colab-df-convert\" onclick=\"convertToInteractive('df-8eb09f01-7d6a-4f52-83c6-5f6a132c7fe5')\"\n",
              "            title=\"Convert this dataframe to an interactive table.\"\n",
              "            style=\"display:none;\">\n",
              "\n",
              "  <svg xmlns=\"http://www.w3.org/2000/svg\" height=\"24px\" viewBox=\"0 -960 960 960\">\n",
              "    <path d=\"M120-120v-720h720v720H120Zm60-500h600v-160H180v160Zm220 220h160v-160H400v160Zm0 220h160v-160H400v160ZM180-400h160v-160H180v160Zm440 0h160v-160H620v160ZM180-180h160v-160H180v160Zm440 0h160v-160H620v160Z\"/>\n",
              "  </svg>\n",
              "    </button>\n",
              "\n",
              "  <style>\n",
              "    .colab-df-container {\n",
              "      display:flex;\n",
              "      gap: 12px;\n",
              "    }\n",
              "\n",
              "    .colab-df-convert {\n",
              "      background-color: #E8F0FE;\n",
              "      border: none;\n",
              "      border-radius: 50%;\n",
              "      cursor: pointer;\n",
              "      display: none;\n",
              "      fill: #1967D2;\n",
              "      height: 32px;\n",
              "      padding: 0 0 0 0;\n",
              "      width: 32px;\n",
              "    }\n",
              "\n",
              "    .colab-df-convert:hover {\n",
              "      background-color: #E2EBFA;\n",
              "      box-shadow: 0px 1px 2px rgba(60, 64, 67, 0.3), 0px 1px 3px 1px rgba(60, 64, 67, 0.15);\n",
              "      fill: #174EA6;\n",
              "    }\n",
              "\n",
              "    .colab-df-buttons div {\n",
              "      margin-bottom: 4px;\n",
              "    }\n",
              "\n",
              "    [theme=dark] .colab-df-convert {\n",
              "      background-color: #3B4455;\n",
              "      fill: #D2E3FC;\n",
              "    }\n",
              "\n",
              "    [theme=dark] .colab-df-convert:hover {\n",
              "      background-color: #434B5C;\n",
              "      box-shadow: 0px 1px 3px 1px rgba(0, 0, 0, 0.15);\n",
              "      filter: drop-shadow(0px 1px 2px rgba(0, 0, 0, 0.3));\n",
              "      fill: #FFFFFF;\n",
              "    }\n",
              "  </style>\n",
              "\n",
              "    <script>\n",
              "      const buttonEl =\n",
              "        document.querySelector('#df-8eb09f01-7d6a-4f52-83c6-5f6a132c7fe5 button.colab-df-convert');\n",
              "      buttonEl.style.display =\n",
              "        google.colab.kernel.accessAllowed ? 'block' : 'none';\n",
              "\n",
              "      async function convertToInteractive(key) {\n",
              "        const element = document.querySelector('#df-8eb09f01-7d6a-4f52-83c6-5f6a132c7fe5');\n",
              "        const dataTable =\n",
              "          await google.colab.kernel.invokeFunction('convertToInteractive',\n",
              "                                                    [key], {});\n",
              "        if (!dataTable) return;\n",
              "\n",
              "        const docLinkHtml = 'Like what you see? Visit the ' +\n",
              "          '<a target=\"_blank\" href=https://colab.research.google.com/notebooks/data_table.ipynb>data table notebook</a>'\n",
              "          + ' to learn more about interactive tables.';\n",
              "        element.innerHTML = '';\n",
              "        dataTable['output_type'] = 'display_data';\n",
              "        await google.colab.output.renderOutput(dataTable, element);\n",
              "        const docLink = document.createElement('div');\n",
              "        docLink.innerHTML = docLinkHtml;\n",
              "        element.appendChild(docLink);\n",
              "      }\n",
              "    </script>\n",
              "  </div>\n",
              "\n",
              "\n",
              "    <div id=\"df-1509f500-5ef5-4340-b8d9-a28b2c3c2619\">\n",
              "      <button class=\"colab-df-quickchart\" onclick=\"quickchart('df-1509f500-5ef5-4340-b8d9-a28b2c3c2619')\"\n",
              "                title=\"Suggest charts\"\n",
              "                style=\"display:none;\">\n",
              "\n",
              "<svg xmlns=\"http://www.w3.org/2000/svg\" height=\"24px\"viewBox=\"0 0 24 24\"\n",
              "     width=\"24px\">\n",
              "    <g>\n",
              "        <path d=\"M19 3H5c-1.1 0-2 .9-2 2v14c0 1.1.9 2 2 2h14c1.1 0 2-.9 2-2V5c0-1.1-.9-2-2-2zM9 17H7v-7h2v7zm4 0h-2V7h2v10zm4 0h-2v-4h2v4z\"/>\n",
              "    </g>\n",
              "</svg>\n",
              "      </button>\n",
              "\n",
              "<style>\n",
              "  .colab-df-quickchart {\n",
              "      --bg-color: #E8F0FE;\n",
              "      --fill-color: #1967D2;\n",
              "      --hover-bg-color: #E2EBFA;\n",
              "      --hover-fill-color: #174EA6;\n",
              "      --disabled-fill-color: #AAA;\n",
              "      --disabled-bg-color: #DDD;\n",
              "  }\n",
              "\n",
              "  [theme=dark] .colab-df-quickchart {\n",
              "      --bg-color: #3B4455;\n",
              "      --fill-color: #D2E3FC;\n",
              "      --hover-bg-color: #434B5C;\n",
              "      --hover-fill-color: #FFFFFF;\n",
              "      --disabled-bg-color: #3B4455;\n",
              "      --disabled-fill-color: #666;\n",
              "  }\n",
              "\n",
              "  .colab-df-quickchart {\n",
              "    background-color: var(--bg-color);\n",
              "    border: none;\n",
              "    border-radius: 50%;\n",
              "    cursor: pointer;\n",
              "    display: none;\n",
              "    fill: var(--fill-color);\n",
              "    height: 32px;\n",
              "    padding: 0;\n",
              "    width: 32px;\n",
              "  }\n",
              "\n",
              "  .colab-df-quickchart:hover {\n",
              "    background-color: var(--hover-bg-color);\n",
              "    box-shadow: 0 1px 2px rgba(60, 64, 67, 0.3), 0 1px 3px 1px rgba(60, 64, 67, 0.15);\n",
              "    fill: var(--button-hover-fill-color);\n",
              "  }\n",
              "\n",
              "  .colab-df-quickchart-complete:disabled,\n",
              "  .colab-df-quickchart-complete:disabled:hover {\n",
              "    background-color: var(--disabled-bg-color);\n",
              "    fill: var(--disabled-fill-color);\n",
              "    box-shadow: none;\n",
              "  }\n",
              "\n",
              "  .colab-df-spinner {\n",
              "    border: 2px solid var(--fill-color);\n",
              "    border-color: transparent;\n",
              "    border-bottom-color: var(--fill-color);\n",
              "    animation:\n",
              "      spin 1s steps(1) infinite;\n",
              "  }\n",
              "\n",
              "  @keyframes spin {\n",
              "    0% {\n",
              "      border-color: transparent;\n",
              "      border-bottom-color: var(--fill-color);\n",
              "      border-left-color: var(--fill-color);\n",
              "    }\n",
              "    20% {\n",
              "      border-color: transparent;\n",
              "      border-left-color: var(--fill-color);\n",
              "      border-top-color: var(--fill-color);\n",
              "    }\n",
              "    30% {\n",
              "      border-color: transparent;\n",
              "      border-left-color: var(--fill-color);\n",
              "      border-top-color: var(--fill-color);\n",
              "      border-right-color: var(--fill-color);\n",
              "    }\n",
              "    40% {\n",
              "      border-color: transparent;\n",
              "      border-right-color: var(--fill-color);\n",
              "      border-top-color: var(--fill-color);\n",
              "    }\n",
              "    60% {\n",
              "      border-color: transparent;\n",
              "      border-right-color: var(--fill-color);\n",
              "    }\n",
              "    80% {\n",
              "      border-color: transparent;\n",
              "      border-right-color: var(--fill-color);\n",
              "      border-bottom-color: var(--fill-color);\n",
              "    }\n",
              "    90% {\n",
              "      border-color: transparent;\n",
              "      border-bottom-color: var(--fill-color);\n",
              "    }\n",
              "  }\n",
              "</style>\n",
              "\n",
              "      <script>\n",
              "        async function quickchart(key) {\n",
              "          const quickchartButtonEl =\n",
              "            document.querySelector('#' + key + ' button');\n",
              "          quickchartButtonEl.disabled = true;  // To prevent multiple clicks.\n",
              "          quickchartButtonEl.classList.add('colab-df-spinner');\n",
              "          try {\n",
              "            const charts = await google.colab.kernel.invokeFunction(\n",
              "                'suggestCharts', [key], {});\n",
              "          } catch (error) {\n",
              "            console.error('Error during call to suggestCharts:', error);\n",
              "          }\n",
              "          quickchartButtonEl.classList.remove('colab-df-spinner');\n",
              "          quickchartButtonEl.classList.add('colab-df-quickchart-complete');\n",
              "        }\n",
              "        (() => {\n",
              "          let quickchartButtonEl =\n",
              "            document.querySelector('#df-1509f500-5ef5-4340-b8d9-a28b2c3c2619 button');\n",
              "          quickchartButtonEl.style.display =\n",
              "            google.colab.kernel.accessAllowed ? 'block' : 'none';\n",
              "        })();\n",
              "      </script>\n",
              "    </div>\n",
              "\n",
              "    </div>\n",
              "  </div>\n"
            ],
            "application/vnd.google.colaboratory.intrinsic+json": {
              "type": "dataframe",
              "variable_name": "var_dataset",
              "summary": "{\n  \"name\": \"var_dataset\",\n  \"rows\": 259,\n  \"fields\": [\n    {\n      \"column\": \"Title\",\n      \"properties\": {\n        \"dtype\": \"string\",\n        \"num_unique_values\": 257,\n        \"samples\": [\n          \"Assessing Soft Skills among Students with Disabilities in Teacher Training Institutions in Zambia\",\n          \"Availability and Usage of Information Communication Technology Facilities in Secondary Schools in Zambia\",\n          \"Home Literacy Environment and Social-Economic Status as Predictors of Initial Literacy in the first Grade in Lusaka-Zambia\"\n        ],\n        \"semantic_type\": \"\",\n        \"description\": \"\"\n      }\n    },\n    {\n      \"column\": \"Date Published\",\n      \"properties\": {\n        \"dtype\": \"category\",\n        \"num_unique_values\": 94,\n        \"samples\": [\n          \"2023-08-19\",\n          \"2025-01-10\",\n          \"00 and 2020\"\n        ],\n        \"semantic_type\": \"\",\n        \"description\": \"\"\n      }\n    },\n    {\n      \"column\": \"Authors\",\n      \"properties\": {\n        \"dtype\": \"string\",\n        \"num_unique_values\": 252,\n        \"samples\": [\n          \"Betty K Zulu; Tomaida Milingo Kaulule\",\n          \"Noah Kenny Sichula\",\n          \"Erastus Mwanaumo; Innocent Musonda\"\n        ],\n        \"semantic_type\": \"\",\n        \"description\": \"\"\n      }\n    },\n    {\n      \"column\": \"Article_ID\",\n      \"properties\": {\n        \"dtype\": \"string\",\n        \"num_unique_values\": 259,\n        \"samples\": [\n          \"jlt_014\",\n          \"JLSS_011\",\n          \"JAE_010\"\n        ],\n        \"semantic_type\": \"\",\n        \"description\": \"\"\n      }\n    },\n    {\n      \"column\": \"Abstract\",\n      \"properties\": {\n        \"dtype\": \"string\",\n        \"num_unique_values\": 257,\n        \"samples\": [\n          \"This study investigates the interest of undergraduate students in virtual learning modes occasioned by the new normal. Three research questions were generated for the study. A structured inventory was used for data collection. Data collected were analysed using frequency counts, mean scores and Pearson Product Moment Correlation (PPMC) analyses. The findings of the study deduced that students found it difficult to learn virtually, it is difficult for them to learn virtually on regular basis, virtual learning is effective for coping up with missed lectures, proficiency in the use of computers makes virtual learning easy, productivity of students can be enhanced through virtual learning, virtual learning is economical in terms of time for students and lecturers while many believed that a number of problems were created by virtual learning rather than its solution while there was difference in the interest of undergraduate students in virtual learning and their level of its acceptability. Based on the findings, the necessary conclusions and recommendations were made. Three universities in Osun state were selected, 120 students from each institution were picked to make a total of 360 respondents used.\",\n          \"This study is an establishment of how policy on management of teaching experience at school level impacts on early childhood education pre-service teacher\\u2019s knowledge levels in basic language constructs. Teaching experience exposes pre-service teachers to their first formative experiences to their teaching careers, hence the need to have mentors who know their roles in this pertinent process. During their training, teachers are exposed to pedagogical content knowledge and content knowledge. The research took a survey approach among fourth year early childhood pre-service teachers. The cohort had 24 pre-service teachers and their experiences where solicited. The students were grouped into groups of three depending on the type of school they had undertaken their teaching experiences. These groups were those who went to public, private and grant aided in particular catholic schools. The findings of the study showed that pre-service teacher\\u2019s pedagogical practices in teaching of basic language constructs can be improved if there is focused coordination between teacher training colleges and early childhood education centers. In schools mentors should be well endowed with what is expected, and they should be models to the trainee teachers and provide guidance. Based on the content to be taught, pre-service teachers should be encouraged to be reflective and more importantly thrive on peer networks and school communities.\",\n          \"The purpose of this study was to search for classroom practices/exercises which would facilitate communicative competence in the teaching and learning of English grammar in Zambian public secondary schools. This study was informed by the Social Constructivism research paradigm. In addition, descriptive research design was employed. The population for this study included all the public secondary schools in Chongwe district, all the grade eleven teachers and learners of English language. Sample was picked purposively using criterion sampling technique. The sample involved 3 Heads of Department for Literature and Languages, 7 English language subject teachers and 15 grade 11 learners of English language. The study also included one standard educational officer. In total, the sample comprised 26 participants. Data was collected using interview guide, focus group discussion guide, classroom observation guide and document analysis. The findings were analysed thematically. Interview data revealed that both mechanical practices (Cloze exercise, transformation exercise, punctuation exercise, substitution exercise, spelling exercise, choosing a correct sentence, single word prompt) and meaningful practices (composition exercise, situational exercise, reading exercise and constructing own sentences) were used in the teaching and learning of English Grammar by the participants. Some teachers explained that they were encouraged to use meaningful practices more often. It was also indicated that both mechanical and meaningful practices are useful but both teachers and learners had put much emphasis on situational practices. They explained that situational practices/exercise enable the learner to use the language inside and outside the classroom effectively because structures are not taught in isolation but with context of the situation in which they are used. However, during classroom lesson observation, the researcher observed that in all the three lessons, teachers used mechanic\"\n        ],\n        \"semantic_type\": \"\",\n        \"description\": \"\"\n      }\n    },\n    {\n      \"column\": \"Keywords\",\n      \"properties\": {\n        \"dtype\": \"string\",\n        \"num_unique_values\": 240,\n        \"samples\": [\n          \"Antimicrobial Resistance, Combretum molle, Natural Antimicrobials, Phytochemical Screening, Bacteria, Ethnomedicine\",\n          \"Adult literacy \\uf09fEducation \\uf09f Financing \\uf09f Industrialisation\\uf09fNational Development Plan\\uf09fYouth.\",\n          \"Sports, religion, practice, beliefs, rituals, tolerance, Christian nation, worship\"\n        ],\n        \"semantic_type\": \"\",\n        \"description\": \"\"\n      }\n    },\n    {\n      \"column\": \"Journal\",\n      \"properties\": {\n        \"dtype\": \"category\",\n        \"num_unique_values\": 14,\n        \"samples\": [\n          \"Zambian Journal of Educational Management, Administration and Leadership\",\n          \"Zambia Journal of Religion and Contemporary Issues\",\n          \"Journal of Adult Education\"\n        ],\n        \"semantic_type\": \"\",\n        \"description\": \"\"\n      }\n    },\n    {\n      \"column\": \"Issue\",\n      \"properties\": {\n        \"dtype\": \"number\",\n        \"std\": 5,\n        \"min\": 1,\n        \"max\": 82,\n        \"num_unique_values\": 6,\n        \"samples\": [\n          2,\n          82,\n          3\n        ],\n        \"semantic_type\": \"\",\n        \"description\": \"\"\n      }\n    },\n    {\n      \"column\": \"Volume\",\n      \"properties\": {\n        \"dtype\": \"number\",\n        \"std\": 7,\n        \"min\": 1,\n        \"max\": 34,\n        \"num_unique_values\": 18,\n        \"samples\": [\n          2,\n          1,\n          4\n        ],\n        \"semantic_type\": \"\",\n        \"description\": \"\"\n      }\n    },\n    {\n      \"column\": \"DOI\",\n      \"properties\": {\n        \"dtype\": \"category\",\n        \"num_unique_values\": 52,\n        \"samples\": [\n          \"https://doi.org/10.53974/unza.jlss.6.2.1300\",\n          \"https://doi.org/10.53974/unza.jonas.6.1.524\",\n          \"https://doi.org/10.53974/unza.jonas.5.1.713\"\n        ],\n        \"semantic_type\": \"\",\n        \"description\": \"\"\n      }\n    },\n    {\n      \"column\": \"URL\",\n      \"properties\": {\n        \"dtype\": \"string\",\n        \"num_unique_values\": 259,\n        \"samples\": [\n          \"https://journals.unza.zm/index.php/jlt/article/view/1027\",\n          \"https://journals.unza.zm/index.php/JLSS/article/view/1203\",\n          \"https://journals.unza.zm/index.php/JAE/article/view/143\"\n        ],\n        \"semantic_type\": \"\",\n        \"description\": \"\"\n      }\n    }\n  ]\n}"
            }
          },
          "metadata": {},
          "execution_count": 16
        }
      ]
    },
    {
      "cell_type": "code",
      "source": [
        "print(f\"Shape: {var_dataset.shape}\")"
      ],
      "metadata": {
        "colab": {
          "base_uri": "https://localhost:8080/"
        },
        "id": "Im7MjYhEPrWT",
        "outputId": "a6926f5c-c664-48d5-e8f4-23e1d36d4a5d"
      },
      "execution_count": 12,
      "outputs": [
        {
          "output_type": "stream",
          "name": "stdout",
          "text": [
            "Shape: (259, 11)\n"
          ]
        }
      ]
    },
    {
      "cell_type": "code",
      "source": [
        "print(\"DATASET OVERVIEW \") #Checking the names of the columns\n",
        "print(f\"Dataset Shape: {var_dataset.shape}\")\n",
        "print(f\"Number of Rows: {var_dataset.shape[0]}\")\n",
        "print(f\"Number of Columns: {var_dataset.shape[1]}\")\n",
        "print(\"\\nColumn Names:\")\n",
        "for i, col in enumerate(var_dataset.columns, 1):\n",
        "    print(f\"{i}. {col}\")"
      ],
      "metadata": {
        "colab": {
          "base_uri": "https://localhost:8080/"
        },
        "id": "s-NMStFqP156",
        "outputId": "960cbeb5-adb9-4ef5-b82a-afcf501a9f71"
      },
      "execution_count": 14,
      "outputs": [
        {
          "output_type": "stream",
          "name": "stdout",
          "text": [
            "DATASET OVERVIEW \n",
            "Dataset Shape: (259, 11)\n",
            "Number of Rows: 259\n",
            "Number of Columns: 11\n",
            "\n",
            "Column Names:\n",
            "1. Title\n",
            "2. Date Published\n",
            "3. Authors\n",
            "4. Article_ID\n",
            "5. Abstract\n",
            "6. Keywords\n",
            "7. Journal\n",
            "8. Issue\n",
            "9. Volume\n",
            "10. DOI\n",
            "11. URL\n"
          ]
        }
      ]
    },
    {
      "cell_type": "code",
      "source": [
        "var_dataset.info()"
      ],
      "metadata": {
        "colab": {
          "base_uri": "https://localhost:8080/"
        },
        "id": "hdWUBjQJQGoV",
        "outputId": "ccd2b63b-c3f3-40c5-b02f-fcd52fdc5d6f"
      },
      "execution_count": 17,
      "outputs": [
        {
          "output_type": "stream",
          "name": "stdout",
          "text": [
            "<class 'pandas.core.frame.DataFrame'>\n",
            "RangeIndex: 259 entries, 0 to 258\n",
            "Data columns (total 11 columns):\n",
            " #   Column          Non-Null Count  Dtype \n",
            "---  ------          --------------  ----- \n",
            " 0   Title           259 non-null    object\n",
            " 1   Date Published  258 non-null    object\n",
            " 2   Authors         257 non-null    object\n",
            " 3   Article_ID      259 non-null    object\n",
            " 4   Abstract        257 non-null    object\n",
            " 5   Keywords        240 non-null    object\n",
            " 6   Journal         259 non-null    object\n",
            " 7   Issue           259 non-null    int64 \n",
            " 8   Volume          259 non-null    int64 \n",
            " 9   DOI             52 non-null     object\n",
            " 10  URL             259 non-null    object\n",
            "dtypes: int64(2), object(9)\n",
            "memory usage: 22.4+ KB\n"
          ]
        }
      ]
    },
    {
      "cell_type": "code",
      "source": [
        "var_dataset.describe(include='all') #Descriptive statistics"
      ],
      "metadata": {
        "colab": {
          "base_uri": "https://localhost:8080/",
          "height": 501
        },
        "id": "zrA_U0NWQ1YU",
        "outputId": "c6507724-6446-4da5-8cdc-ec9dfc907699"
      },
      "execution_count": 18,
      "outputs": [
        {
          "output_type": "execute_result",
          "data": {
            "text/plain": [
              "                    Title Date Published         Authors Article_ID  \\\n",
              "count                 259            258             257        259   \n",
              "unique                257             94             252        259   \n",
              "top     EDITORIAL COMMENT     2023-08-09  Cheela Chilala  ZJOCI_025   \n",
              "freq                    2             16               2          1   \n",
              "mean                  NaN            NaN             NaN        NaN   \n",
              "std                   NaN            NaN             NaN        NaN   \n",
              "min                   NaN            NaN             NaN        NaN   \n",
              "25%                   NaN            NaN             NaN        NaN   \n",
              "50%                   NaN            NaN             NaN        NaN   \n",
              "75%                   NaN            NaN             NaN        NaN   \n",
              "max                   NaN            NaN             NaN        NaN   \n",
              "\n",
              "                                                 Abstract  \\\n",
              "count                                                 257   \n",
              "unique                                                257   \n",
              "top     In exploring agency and phenomenology in the f...   \n",
              "freq                                                    1   \n",
              "mean                                                  NaN   \n",
              "std                                                   NaN   \n",
              "min                                                   NaN   \n",
              "25%                                                   NaN   \n",
              "50%                                                   NaN   \n",
              "75%                                                   NaN   \n",
              "max                                                   NaN   \n",
              "\n",
              "                                                 Keywords  \\\n",
              "count                                                 240   \n",
              "unique                                                240   \n",
              "top     Access to opportunities, gender, gender stereo...   \n",
              "freq                                                    1   \n",
              "mean                                                  NaN   \n",
              "std                                                   NaN   \n",
              "min                                                   NaN   \n",
              "25%                                                   NaN   \n",
              "50%                                                   NaN   \n",
              "75%                                                   NaN   \n",
              "max                                                   NaN   \n",
              "\n",
              "                                                  Journal       Issue  \\\n",
              "count                                                 259  259.000000   \n",
              "unique                                                 14         NaN   \n",
              "top     Multidisciplinary Journal of Language and Soci...         NaN   \n",
              "freq                                                   25         NaN   \n",
              "mean                                                  NaN    1.957529   \n",
              "std                                                   NaN    5.432651   \n",
              "min                                                   NaN    1.000000   \n",
              "25%                                                   NaN    1.000000   \n",
              "50%                                                   NaN    1.000000   \n",
              "75%                                                   NaN    2.000000   \n",
              "max                                                   NaN   82.000000   \n",
              "\n",
              "            Volume                                          DOI  \\\n",
              "count   259.000000                                           52   \n",
              "unique         NaN                                           52   \n",
              "top            NaN  https://doi.org/10.53974/unza.jabs.9.2.1399   \n",
              "freq           NaN                                            1   \n",
              "mean      6.841699                                          NaN   \n",
              "std       7.289291                                          NaN   \n",
              "min       1.000000                                          NaN   \n",
              "25%       2.000000                                          NaN   \n",
              "50%       5.000000                                          NaN   \n",
              "75%       7.000000                                          NaN   \n",
              "max      34.000000                                          NaN   \n",
              "\n",
              "                                                      URL  \n",
              "count                                                 259  \n",
              "unique                                                259  \n",
              "top     https://journals.unza.zm/index.php/ZJOCI/artic...  \n",
              "freq                                                    1  \n",
              "mean                                                  NaN  \n",
              "std                                                   NaN  \n",
              "min                                                   NaN  \n",
              "25%                                                   NaN  \n",
              "50%                                                   NaN  \n",
              "75%                                                   NaN  \n",
              "max                                                   NaN  "
            ],
            "text/html": [
              "\n",
              "  <div id=\"df-2f051f4d-dfd1-499b-b77e-5f2fcce3f870\" class=\"colab-df-container\">\n",
              "    <div>\n",
              "<style scoped>\n",
              "    .dataframe tbody tr th:only-of-type {\n",
              "        vertical-align: middle;\n",
              "    }\n",
              "\n",
              "    .dataframe tbody tr th {\n",
              "        vertical-align: top;\n",
              "    }\n",
              "\n",
              "    .dataframe thead th {\n",
              "        text-align: right;\n",
              "    }\n",
              "</style>\n",
              "<table border=\"1\" class=\"dataframe\">\n",
              "  <thead>\n",
              "    <tr style=\"text-align: right;\">\n",
              "      <th></th>\n",
              "      <th>Title</th>\n",
              "      <th>Date Published</th>\n",
              "      <th>Authors</th>\n",
              "      <th>Article_ID</th>\n",
              "      <th>Abstract</th>\n",
              "      <th>Keywords</th>\n",
              "      <th>Journal</th>\n",
              "      <th>Issue</th>\n",
              "      <th>Volume</th>\n",
              "      <th>DOI</th>\n",
              "      <th>URL</th>\n",
              "    </tr>\n",
              "  </thead>\n",
              "  <tbody>\n",
              "    <tr>\n",
              "      <th>count</th>\n",
              "      <td>259</td>\n",
              "      <td>258</td>\n",
              "      <td>257</td>\n",
              "      <td>259</td>\n",
              "      <td>257</td>\n",
              "      <td>240</td>\n",
              "      <td>259</td>\n",
              "      <td>259.000000</td>\n",
              "      <td>259.000000</td>\n",
              "      <td>52</td>\n",
              "      <td>259</td>\n",
              "    </tr>\n",
              "    <tr>\n",
              "      <th>unique</th>\n",
              "      <td>257</td>\n",
              "      <td>94</td>\n",
              "      <td>252</td>\n",
              "      <td>259</td>\n",
              "      <td>257</td>\n",
              "      <td>240</td>\n",
              "      <td>14</td>\n",
              "      <td>NaN</td>\n",
              "      <td>NaN</td>\n",
              "      <td>52</td>\n",
              "      <td>259</td>\n",
              "    </tr>\n",
              "    <tr>\n",
              "      <th>top</th>\n",
              "      <td>EDITORIAL COMMENT</td>\n",
              "      <td>2023-08-09</td>\n",
              "      <td>Cheela Chilala</td>\n",
              "      <td>ZJOCI_025</td>\n",
              "      <td>In exploring agency and phenomenology in the f...</td>\n",
              "      <td>Access to opportunities, gender, gender stereo...</td>\n",
              "      <td>Multidisciplinary Journal of Language and Soci...</td>\n",
              "      <td>NaN</td>\n",
              "      <td>NaN</td>\n",
              "      <td>https://doi.org/10.53974/unza.jabs.9.2.1399</td>\n",
              "      <td>https://journals.unza.zm/index.php/ZJOCI/artic...</td>\n",
              "    </tr>\n",
              "    <tr>\n",
              "      <th>freq</th>\n",
              "      <td>2</td>\n",
              "      <td>16</td>\n",
              "      <td>2</td>\n",
              "      <td>1</td>\n",
              "      <td>1</td>\n",
              "      <td>1</td>\n",
              "      <td>25</td>\n",
              "      <td>NaN</td>\n",
              "      <td>NaN</td>\n",
              "      <td>1</td>\n",
              "      <td>1</td>\n",
              "    </tr>\n",
              "    <tr>\n",
              "      <th>mean</th>\n",
              "      <td>NaN</td>\n",
              "      <td>NaN</td>\n",
              "      <td>NaN</td>\n",
              "      <td>NaN</td>\n",
              "      <td>NaN</td>\n",
              "      <td>NaN</td>\n",
              "      <td>NaN</td>\n",
              "      <td>1.957529</td>\n",
              "      <td>6.841699</td>\n",
              "      <td>NaN</td>\n",
              "      <td>NaN</td>\n",
              "    </tr>\n",
              "    <tr>\n",
              "      <th>std</th>\n",
              "      <td>NaN</td>\n",
              "      <td>NaN</td>\n",
              "      <td>NaN</td>\n",
              "      <td>NaN</td>\n",
              "      <td>NaN</td>\n",
              "      <td>NaN</td>\n",
              "      <td>NaN</td>\n",
              "      <td>5.432651</td>\n",
              "      <td>7.289291</td>\n",
              "      <td>NaN</td>\n",
              "      <td>NaN</td>\n",
              "    </tr>\n",
              "    <tr>\n",
              "      <th>min</th>\n",
              "      <td>NaN</td>\n",
              "      <td>NaN</td>\n",
              "      <td>NaN</td>\n",
              "      <td>NaN</td>\n",
              "      <td>NaN</td>\n",
              "      <td>NaN</td>\n",
              "      <td>NaN</td>\n",
              "      <td>1.000000</td>\n",
              "      <td>1.000000</td>\n",
              "      <td>NaN</td>\n",
              "      <td>NaN</td>\n",
              "    </tr>\n",
              "    <tr>\n",
              "      <th>25%</th>\n",
              "      <td>NaN</td>\n",
              "      <td>NaN</td>\n",
              "      <td>NaN</td>\n",
              "      <td>NaN</td>\n",
              "      <td>NaN</td>\n",
              "      <td>NaN</td>\n",
              "      <td>NaN</td>\n",
              "      <td>1.000000</td>\n",
              "      <td>2.000000</td>\n",
              "      <td>NaN</td>\n",
              "      <td>NaN</td>\n",
              "    </tr>\n",
              "    <tr>\n",
              "      <th>50%</th>\n",
              "      <td>NaN</td>\n",
              "      <td>NaN</td>\n",
              "      <td>NaN</td>\n",
              "      <td>NaN</td>\n",
              "      <td>NaN</td>\n",
              "      <td>NaN</td>\n",
              "      <td>NaN</td>\n",
              "      <td>1.000000</td>\n",
              "      <td>5.000000</td>\n",
              "      <td>NaN</td>\n",
              "      <td>NaN</td>\n",
              "    </tr>\n",
              "    <tr>\n",
              "      <th>75%</th>\n",
              "      <td>NaN</td>\n",
              "      <td>NaN</td>\n",
              "      <td>NaN</td>\n",
              "      <td>NaN</td>\n",
              "      <td>NaN</td>\n",
              "      <td>NaN</td>\n",
              "      <td>NaN</td>\n",
              "      <td>2.000000</td>\n",
              "      <td>7.000000</td>\n",
              "      <td>NaN</td>\n",
              "      <td>NaN</td>\n",
              "    </tr>\n",
              "    <tr>\n",
              "      <th>max</th>\n",
              "      <td>NaN</td>\n",
              "      <td>NaN</td>\n",
              "      <td>NaN</td>\n",
              "      <td>NaN</td>\n",
              "      <td>NaN</td>\n",
              "      <td>NaN</td>\n",
              "      <td>NaN</td>\n",
              "      <td>82.000000</td>\n",
              "      <td>34.000000</td>\n",
              "      <td>NaN</td>\n",
              "      <td>NaN</td>\n",
              "    </tr>\n",
              "  </tbody>\n",
              "</table>\n",
              "</div>\n",
              "    <div class=\"colab-df-buttons\">\n",
              "\n",
              "  <div class=\"colab-df-container\">\n",
              "    <button class=\"colab-df-convert\" onclick=\"convertToInteractive('df-2f051f4d-dfd1-499b-b77e-5f2fcce3f870')\"\n",
              "            title=\"Convert this dataframe to an interactive table.\"\n",
              "            style=\"display:none;\">\n",
              "\n",
              "  <svg xmlns=\"http://www.w3.org/2000/svg\" height=\"24px\" viewBox=\"0 -960 960 960\">\n",
              "    <path d=\"M120-120v-720h720v720H120Zm60-500h600v-160H180v160Zm220 220h160v-160H400v160Zm0 220h160v-160H400v160ZM180-400h160v-160H180v160Zm440 0h160v-160H620v160ZM180-180h160v-160H180v160Zm440 0h160v-160H620v160Z\"/>\n",
              "  </svg>\n",
              "    </button>\n",
              "\n",
              "  <style>\n",
              "    .colab-df-container {\n",
              "      display:flex;\n",
              "      gap: 12px;\n",
              "    }\n",
              "\n",
              "    .colab-df-convert {\n",
              "      background-color: #E8F0FE;\n",
              "      border: none;\n",
              "      border-radius: 50%;\n",
              "      cursor: pointer;\n",
              "      display: none;\n",
              "      fill: #1967D2;\n",
              "      height: 32px;\n",
              "      padding: 0 0 0 0;\n",
              "      width: 32px;\n",
              "    }\n",
              "\n",
              "    .colab-df-convert:hover {\n",
              "      background-color: #E2EBFA;\n",
              "      box-shadow: 0px 1px 2px rgba(60, 64, 67, 0.3), 0px 1px 3px 1px rgba(60, 64, 67, 0.15);\n",
              "      fill: #174EA6;\n",
              "    }\n",
              "\n",
              "    .colab-df-buttons div {\n",
              "      margin-bottom: 4px;\n",
              "    }\n",
              "\n",
              "    [theme=dark] .colab-df-convert {\n",
              "      background-color: #3B4455;\n",
              "      fill: #D2E3FC;\n",
              "    }\n",
              "\n",
              "    [theme=dark] .colab-df-convert:hover {\n",
              "      background-color: #434B5C;\n",
              "      box-shadow: 0px 1px 3px 1px rgba(0, 0, 0, 0.15);\n",
              "      filter: drop-shadow(0px 1px 2px rgba(0, 0, 0, 0.3));\n",
              "      fill: #FFFFFF;\n",
              "    }\n",
              "  </style>\n",
              "\n",
              "    <script>\n",
              "      const buttonEl =\n",
              "        document.querySelector('#df-2f051f4d-dfd1-499b-b77e-5f2fcce3f870 button.colab-df-convert');\n",
              "      buttonEl.style.display =\n",
              "        google.colab.kernel.accessAllowed ? 'block' : 'none';\n",
              "\n",
              "      async function convertToInteractive(key) {\n",
              "        const element = document.querySelector('#df-2f051f4d-dfd1-499b-b77e-5f2fcce3f870');\n",
              "        const dataTable =\n",
              "          await google.colab.kernel.invokeFunction('convertToInteractive',\n",
              "                                                    [key], {});\n",
              "        if (!dataTable) return;\n",
              "\n",
              "        const docLinkHtml = 'Like what you see? Visit the ' +\n",
              "          '<a target=\"_blank\" href=https://colab.research.google.com/notebooks/data_table.ipynb>data table notebook</a>'\n",
              "          + ' to learn more about interactive tables.';\n",
              "        element.innerHTML = '';\n",
              "        dataTable['output_type'] = 'display_data';\n",
              "        await google.colab.output.renderOutput(dataTable, element);\n",
              "        const docLink = document.createElement('div');\n",
              "        docLink.innerHTML = docLinkHtml;\n",
              "        element.appendChild(docLink);\n",
              "      }\n",
              "    </script>\n",
              "  </div>\n",
              "\n",
              "\n",
              "    <div id=\"df-0c1911e5-92a6-46ad-bea2-82073243382f\">\n",
              "      <button class=\"colab-df-quickchart\" onclick=\"quickchart('df-0c1911e5-92a6-46ad-bea2-82073243382f')\"\n",
              "                title=\"Suggest charts\"\n",
              "                style=\"display:none;\">\n",
              "\n",
              "<svg xmlns=\"http://www.w3.org/2000/svg\" height=\"24px\"viewBox=\"0 0 24 24\"\n",
              "     width=\"24px\">\n",
              "    <g>\n",
              "        <path d=\"M19 3H5c-1.1 0-2 .9-2 2v14c0 1.1.9 2 2 2h14c1.1 0 2-.9 2-2V5c0-1.1-.9-2-2-2zM9 17H7v-7h2v7zm4 0h-2V7h2v10zm4 0h-2v-4h2v4z\"/>\n",
              "    </g>\n",
              "</svg>\n",
              "      </button>\n",
              "\n",
              "<style>\n",
              "  .colab-df-quickchart {\n",
              "      --bg-color: #E8F0FE;\n",
              "      --fill-color: #1967D2;\n",
              "      --hover-bg-color: #E2EBFA;\n",
              "      --hover-fill-color: #174EA6;\n",
              "      --disabled-fill-color: #AAA;\n",
              "      --disabled-bg-color: #DDD;\n",
              "  }\n",
              "\n",
              "  [theme=dark] .colab-df-quickchart {\n",
              "      --bg-color: #3B4455;\n",
              "      --fill-color: #D2E3FC;\n",
              "      --hover-bg-color: #434B5C;\n",
              "      --hover-fill-color: #FFFFFF;\n",
              "      --disabled-bg-color: #3B4455;\n",
              "      --disabled-fill-color: #666;\n",
              "  }\n",
              "\n",
              "  .colab-df-quickchart {\n",
              "    background-color: var(--bg-color);\n",
              "    border: none;\n",
              "    border-radius: 50%;\n",
              "    cursor: pointer;\n",
              "    display: none;\n",
              "    fill: var(--fill-color);\n",
              "    height: 32px;\n",
              "    padding: 0;\n",
              "    width: 32px;\n",
              "  }\n",
              "\n",
              "  .colab-df-quickchart:hover {\n",
              "    background-color: var(--hover-bg-color);\n",
              "    box-shadow: 0 1px 2px rgba(60, 64, 67, 0.3), 0 1px 3px 1px rgba(60, 64, 67, 0.15);\n",
              "    fill: var(--button-hover-fill-color);\n",
              "  }\n",
              "\n",
              "  .colab-df-quickchart-complete:disabled,\n",
              "  .colab-df-quickchart-complete:disabled:hover {\n",
              "    background-color: var(--disabled-bg-color);\n",
              "    fill: var(--disabled-fill-color);\n",
              "    box-shadow: none;\n",
              "  }\n",
              "\n",
              "  .colab-df-spinner {\n",
              "    border: 2px solid var(--fill-color);\n",
              "    border-color: transparent;\n",
              "    border-bottom-color: var(--fill-color);\n",
              "    animation:\n",
              "      spin 1s steps(1) infinite;\n",
              "  }\n",
              "\n",
              "  @keyframes spin {\n",
              "    0% {\n",
              "      border-color: transparent;\n",
              "      border-bottom-color: var(--fill-color);\n",
              "      border-left-color: var(--fill-color);\n",
              "    }\n",
              "    20% {\n",
              "      border-color: transparent;\n",
              "      border-left-color: var(--fill-color);\n",
              "      border-top-color: var(--fill-color);\n",
              "    }\n",
              "    30% {\n",
              "      border-color: transparent;\n",
              "      border-left-color: var(--fill-color);\n",
              "      border-top-color: var(--fill-color);\n",
              "      border-right-color: var(--fill-color);\n",
              "    }\n",
              "    40% {\n",
              "      border-color: transparent;\n",
              "      border-right-color: var(--fill-color);\n",
              "      border-top-color: var(--fill-color);\n",
              "    }\n",
              "    60% {\n",
              "      border-color: transparent;\n",
              "      border-right-color: var(--fill-color);\n",
              "    }\n",
              "    80% {\n",
              "      border-color: transparent;\n",
              "      border-right-color: var(--fill-color);\n",
              "      border-bottom-color: var(--fill-color);\n",
              "    }\n",
              "    90% {\n",
              "      border-color: transparent;\n",
              "      border-bottom-color: var(--fill-color);\n",
              "    }\n",
              "  }\n",
              "</style>\n",
              "\n",
              "      <script>\n",
              "        async function quickchart(key) {\n",
              "          const quickchartButtonEl =\n",
              "            document.querySelector('#' + key + ' button');\n",
              "          quickchartButtonEl.disabled = true;  // To prevent multiple clicks.\n",
              "          quickchartButtonEl.classList.add('colab-df-spinner');\n",
              "          try {\n",
              "            const charts = await google.colab.kernel.invokeFunction(\n",
              "                'suggestCharts', [key], {});\n",
              "          } catch (error) {\n",
              "            console.error('Error during call to suggestCharts:', error);\n",
              "          }\n",
              "          quickchartButtonEl.classList.remove('colab-df-spinner');\n",
              "          quickchartButtonEl.classList.add('colab-df-quickchart-complete');\n",
              "        }\n",
              "        (() => {\n",
              "          let quickchartButtonEl =\n",
              "            document.querySelector('#df-0c1911e5-92a6-46ad-bea2-82073243382f button');\n",
              "          quickchartButtonEl.style.display =\n",
              "            google.colab.kernel.accessAllowed ? 'block' : 'none';\n",
              "        })();\n",
              "      </script>\n",
              "    </div>\n",
              "\n",
              "    </div>\n",
              "  </div>\n"
            ],
            "application/vnd.google.colaboratory.intrinsic+json": {
              "type": "dataframe",
              "summary": "{\n  \"name\": \"var_dataset\",\n  \"rows\": 11,\n  \"fields\": [\n    {\n      \"column\": \"Title\",\n      \"properties\": {\n        \"dtype\": \"category\",\n        \"num_unique_values\": 4,\n        \"samples\": [\n          257,\n          \"2\",\n          \"259\"\n        ],\n        \"semantic_type\": \"\",\n        \"description\": \"\"\n      }\n    },\n    {\n      \"column\": \"Date Published\",\n      \"properties\": {\n        \"dtype\": \"date\",\n        \"min\": \"1970-01-01 00:00:00.000000016\",\n        \"max\": \"2023-08-09 00:00:00\",\n        \"num_unique_values\": 4,\n        \"samples\": [\n          94,\n          \"16\",\n          \"258\"\n        ],\n        \"semantic_type\": \"\",\n        \"description\": \"\"\n      }\n    },\n    {\n      \"column\": \"Authors\",\n      \"properties\": {\n        \"dtype\": \"category\",\n        \"num_unique_values\": 4,\n        \"samples\": [\n          252,\n          \"2\",\n          \"257\"\n        ],\n        \"semantic_type\": \"\",\n        \"description\": \"\"\n      }\n    },\n    {\n      \"column\": \"Article_ID\",\n      \"properties\": {\n        \"dtype\": \"category\",\n        \"num_unique_values\": 3,\n        \"samples\": [\n          \"259\",\n          \"ZJOCI_025\",\n          \"1\"\n        ],\n        \"semantic_type\": \"\",\n        \"description\": \"\"\n      }\n    },\n    {\n      \"column\": \"Abstract\",\n      \"properties\": {\n        \"dtype\": \"category\",\n        \"num_unique_values\": 3,\n        \"samples\": [\n          \"257\",\n          \"In exploring agency and phenomenology in the fight against child abuse and molestation, we turn to Sista D\\u2019s Vitendeni, zooming in on two interrelated aspects of semiotics: diction and symbolism. Composed and launched at the height of cases of girl child abuse and molestation in Zambia, Vitendeni mixes diction and symbolism to provide phenomenological commentary, awareness, and prescribes the punitive measures to end the scourge as encapsulated in the song title. Thus, the article conflates two theoretical constructs \\u2013 semiotics and literary appraisal \\u2013 to explore the semiotic potential of diction and symbolism in Vitendeni as lenses into the appreciation of agency and phenomenology. We conclude that: as both a semiotic and literary text, the song Vitendeni, provides analysable materiality, which extends beyond the immediate context of the song, and confirms not only the attitude of the artiste towards the vice in question, but also re-echoes the collective feelings and judgments of the public towards the perpetrators of girl child abuse. Invariably, attesting to the idea that meaning making is always a joint project arising from the shared socio-cultural knowledge and histories of a given society and polity.\",\n          \"1\"\n        ],\n        \"semantic_type\": \"\",\n        \"description\": \"\"\n      }\n    },\n    {\n      \"column\": \"Keywords\",\n      \"properties\": {\n        \"dtype\": \"category\",\n        \"num_unique_values\": 3,\n        \"samples\": [\n          \"240\",\n          \"Access to opportunities, gender, gender stereotyping, male domination, sports administration and leadership\",\n          \"1\"\n        ],\n        \"semantic_type\": \"\",\n        \"description\": \"\"\n      }\n    },\n    {\n      \"column\": \"Journal\",\n      \"properties\": {\n        \"dtype\": \"category\",\n        \"num_unique_values\": 4,\n        \"samples\": [\n          14,\n          \"25\",\n          \"259\"\n        ],\n        \"semantic_type\": \"\",\n        \"description\": \"\"\n      }\n    },\n    {\n      \"column\": \"Issue\",\n      \"properties\": {\n        \"dtype\": \"number\",\n        \"std\": 91.2099369839023,\n        \"min\": 1.0,\n        \"max\": 259.0,\n        \"num_unique_values\": 6,\n        \"samples\": [\n          259.0,\n          1.9575289575289576,\n          82.0\n        ],\n        \"semantic_type\": \"\",\n        \"description\": \"\"\n      }\n    },\n    {\n      \"column\": \"Volume\",\n      \"properties\": {\n        \"dtype\": \"number\",\n        \"std\": 88.99831122123382,\n        \"min\": 1.0,\n        \"max\": 259.0,\n        \"num_unique_values\": 8,\n        \"samples\": [\n          6.841698841698841,\n          5.0,\n          259.0\n        ],\n        \"semantic_type\": \"\",\n        \"description\": \"\"\n      }\n    },\n    {\n      \"column\": \"DOI\",\n      \"properties\": {\n        \"dtype\": \"category\",\n        \"num_unique_values\": 3,\n        \"samples\": [\n          \"52\",\n          \"https://doi.org/10.53974/unza.jabs.9.2.1399\",\n          \"1\"\n        ],\n        \"semantic_type\": \"\",\n        \"description\": \"\"\n      }\n    },\n    {\n      \"column\": \"URL\",\n      \"properties\": {\n        \"dtype\": \"category\",\n        \"num_unique_values\": 3,\n        \"samples\": [\n          \"259\",\n          \"https://journals.unza.zm/index.php/ZJOCI/article/view/1047\",\n          \"1\"\n        ],\n        \"semantic_type\": \"\",\n        \"description\": \"\"\n      }\n    }\n  ]\n}"
            }
          },
          "metadata": {},
          "execution_count": 18
        }
      ]
    },
    {
      "cell_type": "code",
      "source": [
        "print(\"DATA QUALITY ANALYSIS\")\n",
        "print(\"\\n This is an analysis of missing values:\")\n",
        "\n",
        "missing_data = var_dataset.isnull().sum()\n",
        "missing_percentage = (missing_data / len(var_dataset)) * 100\n",
        "\n",
        "quality_df = pd.DataFrame({\n",
        "    'Column': var_dataset.columns,\n",
        "    'Missing_Count': missing_data.values,\n",
        "    'Missing_Percentage': missing_percentage.values\n",
        "}).sort_values('Missing_Percentage', ascending=False)\n",
        "\n",
        "print(quality_df.to_string(index=False))"
      ],
      "metadata": {
        "colab": {
          "base_uri": "https://localhost:8080/"
        },
        "id": "_qAA4X4VQ_bI",
        "outputId": "6c811206-3aa2-4330-e2dd-8f20391a6e86"
      },
      "execution_count": 19,
      "outputs": [
        {
          "output_type": "stream",
          "name": "stdout",
          "text": [
            "DATA QUALITY ANALYSIS\n",
            "\n",
            " This is an analysis of missing values:\n",
            "        Column  Missing_Count  Missing_Percentage\n",
            "           DOI            207           79.922780\n",
            "      Keywords             19            7.335907\n",
            "       Authors              2            0.772201\n",
            "      Abstract              2            0.772201\n",
            "Date Published              1            0.386100\n",
            "         Title              0            0.000000\n",
            "    Article_ID              0            0.000000\n",
            "       Journal              0            0.000000\n",
            "         Issue              0            0.000000\n",
            "        Volume              0            0.000000\n",
            "           URL              0            0.000000\n"
          ]
        }
      ]
    },
    {
      "cell_type": "markdown",
      "source": [
        "The dataset 259 academic articles with 11 columns including titles, abstracts, authors, and journal metadata. The missing data is mostly in the DOI's and Keywords with a few missing in 3 other categories. Other than that, the dataset does not have many many missing values."
      ],
      "metadata": {
        "id": "QZlY5jWRRu3_"
      }
    },
    {
      "cell_type": "code",
      "execution_count": null,
      "metadata": {
        "colab": {
          "base_uri": "https://localhost:8080/"
        },
        "collapsed": true,
        "id": "8h8Zcx2FsiB8",
        "outputId": "0aad1ed0-5825-4b22-f051-a799c9a43ef3"
      },
      "outputs": [
        {
          "output_type": "stream",
          "name": "stderr",
          "text": [
            "Downloading...\n",
            "From: https://drive.google.com/uc?id=1sErHRwqKS2O4wby5ocsrp2g4isWTGfzM\n",
            "To: /content/db-unza25-csc4792-datasets-dspace_unza_zm.csv\n",
            "100%|██████████| 4.75M/4.75M [00:00<00:00, 31.3MB/s]\n"
          ]
        }
      ],
      "source": [
        "# Installing gdown to directly use a link\n",
        "!pip install -q gdown\n",
        "# I used -q gdown because the direct google drive was only working on my end but not woth other users.\n",
        "# Each user would have had to put the dataset in a specific folder on their drive, so I opted to use a direct link to the file on google drive\n",
        "import gdown\n",
        "import pandas as pd\n",
        "\n",
        "# File ID from the shared link\n",
        "file_id = \"1sErHRwqKS2O4wby5ocsrp2g4isWTGfzM\"\n",
        "url = f\"https://drive.google.com/uc?id={file_id}\"\n",
        "\n",
        "#This downloads the csv to local storage\n",
        "output = \"db-unza25-csc4792-datasets-dspace_unza_zm.csv\"\n",
        "gdown.download(url, output, quiet=False)\n",
        "\n",
        "# This reads the csv and assigns it to df\n",
        "df = pd.read_csv(output, delimiter=\"|\", engine=\"python\")"
      ]
    },
    {
      "cell_type": "code",
      "source": [
        "df.isnull().sum()\n"
      ],
      "metadata": {
        "colab": {
          "base_uri": "https://localhost:8080/",
          "height": 460
        },
        "id": "UM4xAm8fQBd1",
        "outputId": "54514360-9c9f-463b-d7d9-d97d509318c8"
      },
      "execution_count": null,
      "outputs": [
        {
          "output_type": "execute_result",
          "data": {
            "text/plain": [
              "_identifier      0\n",
              "_datestamp       0\n",
              "_setSpec         0\n",
              "title           15\n",
              "creator         24\n",
              "subject         32\n",
              "description    221\n",
              "date            15\n",
              "type            26\n",
              "identifier      15\n",
              "language        25\n",
              "format          15\n",
              "dtype: int64"
            ],
            "text/html": [
              "<div>\n",
              "<style scoped>\n",
              "    .dataframe tbody tr th:only-of-type {\n",
              "        vertical-align: middle;\n",
              "    }\n",
              "\n",
              "    .dataframe tbody tr th {\n",
              "        vertical-align: top;\n",
              "    }\n",
              "\n",
              "    .dataframe thead th {\n",
              "        text-align: right;\n",
              "    }\n",
              "</style>\n",
              "<table border=\"1\" class=\"dataframe\">\n",
              "  <thead>\n",
              "    <tr style=\"text-align: right;\">\n",
              "      <th></th>\n",
              "      <th>0</th>\n",
              "    </tr>\n",
              "  </thead>\n",
              "  <tbody>\n",
              "    <tr>\n",
              "      <th>_identifier</th>\n",
              "      <td>0</td>\n",
              "    </tr>\n",
              "    <tr>\n",
              "      <th>_datestamp</th>\n",
              "      <td>0</td>\n",
              "    </tr>\n",
              "    <tr>\n",
              "      <th>_setSpec</th>\n",
              "      <td>0</td>\n",
              "    </tr>\n",
              "    <tr>\n",
              "      <th>title</th>\n",
              "      <td>15</td>\n",
              "    </tr>\n",
              "    <tr>\n",
              "      <th>creator</th>\n",
              "      <td>24</td>\n",
              "    </tr>\n",
              "    <tr>\n",
              "      <th>subject</th>\n",
              "      <td>32</td>\n",
              "    </tr>\n",
              "    <tr>\n",
              "      <th>description</th>\n",
              "      <td>221</td>\n",
              "    </tr>\n",
              "    <tr>\n",
              "      <th>date</th>\n",
              "      <td>15</td>\n",
              "    </tr>\n",
              "    <tr>\n",
              "      <th>type</th>\n",
              "      <td>26</td>\n",
              "    </tr>\n",
              "    <tr>\n",
              "      <th>identifier</th>\n",
              "      <td>15</td>\n",
              "    </tr>\n",
              "    <tr>\n",
              "      <th>language</th>\n",
              "      <td>25</td>\n",
              "    </tr>\n",
              "    <tr>\n",
              "      <th>format</th>\n",
              "      <td>15</td>\n",
              "    </tr>\n",
              "  </tbody>\n",
              "</table>\n",
              "</div><br><label><b>dtype:</b> int64</label>"
            ]
          },
          "metadata": {},
          "execution_count": 8
        }
      ]
    },
    {
      "cell_type": "code",
      "source": [
        "import seaborn as sns\n",
        "import matplotlib.pyplot as plt\n",
        "\n",
        "sns.heatmap(df.isnull(), cbar=False, cmap=\"viridis\")\n",
        "plt.show()\n"
      ],
      "metadata": {
        "colab": {
          "base_uri": "https://localhost:8080/",
          "height": 505
        },
        "id": "toELFt7hQP1l",
        "outputId": "001ce70b-b7b1-48ff-8da6-377ba580f8ad"
      },
      "execution_count": null,
      "outputs": [
        {
          "output_type": "display_data",
          "data": {
            "text/plain": [
              "<Figure size 640x480 with 1 Axes>"
            ],
            "image/png": "[encoded data removed]"
          },
          "metadata": {}
        }
      ]
    },
    {
      "cell_type": "code",
      "source": [],
      "metadata": {
        "id": "siz5ZopBPwp6"
      },
      "execution_count": null,
      "outputs": []
    },
    {
      "cell_type": "markdown",
      "metadata": {
        "id": "YO4ryJhXQDWH"
      },
      "source": [
        "Found it hard to directly acess the shared folder so I had to use a direct link to the folder and then access that. Used the | delimeter because that's what was used in the csv file."
      ]
    },
    {
      "cell_type": "markdown",
      "metadata": {
        "id": "nprKCN5IBke0"
      },
      "source": [
        "##Below are the explorative operations on the data"
      ]
    },
    {
      "cell_type": "code",
      "execution_count": null,
      "metadata": {
        "colab": {
          "base_uri": "https://localhost:8080/",
          "height": 337
        },
        "collapsed": true,
        "id": "OcZGfFHPadZV",
        "outputId": "bf292790-2e3d-4396-b6fd-a9eb1d3b4566"
      },
      "outputs": [
        {
          "output_type": "execute_result",
          "data": {
            "text/plain": [
              "                         _identifier            _datestamp  \\\n",
              "0  oai:dspace.unza.zm:123456789/4153  2016-06-09T12:46:34Z   \n",
              "1  oai:dspace.unza.zm:123456789/3777  2016-06-09T10:16:03Z   \n",
              "2  oai:dspace.unza.zm:123456789/4729  2017-07-26T01:01:14Z   \n",
              "\n",
              "                              _setSpec  \\\n",
              "0  com_123456789_289=col_123456789_290   \n",
              "1    com_123456789_18=col_123456789_76   \n",
              "2    com_123456789_18=col_123456789_76   \n",
              "\n",
              "                                               title             creator  \\\n",
              "0  Morphological characterisation of low and high...  Chinyundo, Anthony   \n",
              "1  Instruction based formative assessment in sele...      Mwale, Fred M.   \n",
              "2  An assessment of teachers' competences in care...  Banda, Christopher   \n",
              "\n",
              "                                             subject  \\\n",
              "0   Helianthus Annuus. L.=Sun flower oil=Cooking oil   \n",
              "1  Educational tests and measurement=Formative As...   \n",
              "2  Counselling in Secondary Education-Solwezi, Za...   \n",
              "\n",
              "                                         description  \\\n",
              "0  Morphological characterization was done on thr...   \n",
              "1  The purpose of the study was to evaluate the u...   \n",
              "2  M.ED=The purpose of the study was to assess th...   \n",
              "\n",
              "                                                date    type  \\\n",
              "0  2015-11-11T13:39:13Z=2015-11-11T13:39:13Z=2015...   Other   \n",
              "1  2015-04-13T07:36:13Z=2015-04-13T07:36:13Z=2015...  Thesis   \n",
              "2     2017-07-25T13:51:51Z=2017-07-25T13:51:51Z=2016  Thesis   \n",
              "\n",
              "                                          identifier language  \\\n",
              "0               http://hdl.handle.net/123456789/4153       en   \n",
              "1               http://hdl.handle.net/123456789/3777       en   \n",
              "2  http://dspace.unza.zm:8080/xmlui/handle/123456...       en   \n",
              "\n",
              "                                              format  \n",
              "0                                    application/pdf  \n",
              "1  application/pdf=application/pdf=application/pd...  \n",
              "2                                    application/pdf  "
            ],
            "text/html": [
              "\n",
              "  <div id=\"df-c48c2c88-0b1c-4959-9158-aedd148c6a25\" class=\"colab-df-container\">\n",
              "    <div>\n",
              "<style scoped>\n",
              "    .dataframe tbody tr th:only-of-type {\n",
              "        vertical-align: middle;\n",
              "    }\n",
              "\n",
              "    .dataframe tbody tr th {\n",
              "        vertical-align: top;\n",
              "    }\n",
              "\n",
              "    .dataframe thead th {\n",
              "        text-align: right;\n",
              "    }\n",
              "</style>\n",
              "<table border=\"1\" class=\"dataframe\">\n",
              "  <thead>\n",
              "    <tr style=\"text-align: right;\">\n",
              "      <th></th>\n",
              "      <th>_identifier</th>\n",
              "      <th>_datestamp</th>\n",
              "      <th>_setSpec</th>\n",
              "      <th>title</th>\n",
              "      <th>creator</th>\n",
              "      <th>subject</th>\n",
              "      <th>description</th>\n",
              "      <th>date</th>\n",
              "      <th>type</th>\n",
              "      <th>identifier</th>\n",
              "      <th>language</th>\n",
              "      <th>format</th>\n",
              "    </tr>\n",
              "  </thead>\n",
              "  <tbody>\n",
              "    <tr>\n",
              "      <th>0</th>\n",
              "      <td>oai:dspace.unza.zm:123456789/4153</td>\n",
              "      <td>2016-06-09T12:46:34Z</td>\n",
              "      <td>com_123456789_289=col_123456789_290</td>\n",
              "      <td>Morphological characterisation of low and high...</td>\n",
              "      <td>Chinyundo, Anthony</td>\n",
              "      <td>Helianthus Annuus. L.=Sun flower oil=Cooking oil</td>\n",
              "      <td>Morphological characterization was done on thr...</td>\n",
              "      <td>2015-11-11T13:39:13Z=2015-11-11T13:39:13Z=2015...</td>\n",
              "      <td>Other</td>\n",
              "      <td>http://hdl.handle.net/123456789/4153</td>\n",
              "      <td>en</td>\n",
              "      <td>application/pdf</td>\n",
              "    </tr>\n",
              "    <tr>\n",
              "      <th>1</th>\n",
              "      <td>oai:dspace.unza.zm:123456789/3777</td>\n",
              "      <td>2016-06-09T10:16:03Z</td>\n",
              "      <td>com_123456789_18=col_123456789_76</td>\n",
              "      <td>Instruction based formative assessment in sele...</td>\n",
              "      <td>Mwale, Fred M.</td>\n",
              "      <td>Educational tests and measurement=Formative As...</td>\n",
              "      <td>The purpose of the study was to evaluate the u...</td>\n",
              "      <td>2015-04-13T07:36:13Z=2015-04-13T07:36:13Z=2015...</td>\n",
              "      <td>Thesis</td>\n",
              "      <td>http://hdl.handle.net/123456789/3777</td>\n",
              "      <td>en</td>\n",
              "      <td>application/pdf=application/pdf=application/pd...</td>\n",
              "    </tr>\n",
              "    <tr>\n",
              "      <th>2</th>\n",
              "      <td>oai:dspace.unza.zm:123456789/4729</td>\n",
              "      <td>2017-07-26T01:01:14Z</td>\n",
              "      <td>com_123456789_18=col_123456789_76</td>\n",
              "      <td>An assessment of teachers' competences in care...</td>\n",
              "      <td>Banda, Christopher</td>\n",
              "      <td>Counselling in Secondary Education-Solwezi, Za...</td>\n",
              "      <td>M.ED=The purpose of the study was to assess th...</td>\n",
              "      <td>2017-07-25T13:51:51Z=2017-07-25T13:51:51Z=2016</td>\n",
              "      <td>Thesis</td>\n",
              "      <td>http://dspace.unza.zm:8080/xmlui/handle/123456...</td>\n",
              "      <td>en</td>\n",
              "      <td>application/pdf</td>\n",
              "    </tr>\n",
              "  </tbody>\n",
              "</table>\n",
              "</div>\n",
              "    <div class=\"colab-df-buttons\">\n",
              "\n",
              "  <div class=\"colab-df-container\">\n",
              "    <button class=\"colab-df-convert\" onclick=\"convertToInteractive('df-c48c2c88-0b1c-4959-9158-aedd148c6a25')\"\n",
              "            title=\"Convert this dataframe to an interactive table.\"\n",
              "            style=\"display:none;\">\n",
              "\n",
              "  <svg xmlns=\"http://www.w3.org/2000/svg\" height=\"24px\" viewBox=\"0 -960 960 960\">\n",
              "    <path d=\"M120-120v-720h720v720H120Zm60-500h600v-160H180v160Zm220 220h160v-160H400v160Zm0 220h160v-160H400v160ZM180-400h160v-160H180v160Zm440 0h160v-160H620v160ZM180-180h160v-160H180v160Zm440 0h160v-160H620v160Z\"/>\n",
              "  </svg>\n",
              "    </button>\n",
              "\n",
              "  <style>\n",
              "    .colab-df-container {\n",
              "      display:flex;\n",
              "      gap: 12px;\n",
              "    }\n",
              "\n",
              "    .colab-df-convert {\n",
              "      background-color: #E8F0FE;\n",
              "      border: none;\n",
              "      border-radius: 50%;\n",
              "      cursor: pointer;\n",
              "      display: none;\n",
              "      fill: #1967D2;\n",
              "      height: 32px;\n",
              "      padding: 0 0 0 0;\n",
              "      width: 32px;\n",
              "    }\n",
              "\n",
              "    .colab-df-convert:hover {\n",
              "      background-color: #E2EBFA;\n",
              "      box-shadow: 0px 1px 2px rgba(60, 64, 67, 0.3), 0px 1px 3px 1px rgba(60, 64, 67, 0.15);\n",
              "      fill: #174EA6;\n",
              "    }\n",
              "\n",
              "    .colab-df-buttons div {\n",
              "      margin-bottom: 4px;\n",
              "    }\n",
              "\n",
              "    [theme=dark] .colab-df-convert {\n",
              "      background-color: #3B4455;\n",
              "      fill: #D2E3FC;\n",
              "    }\n",
              "\n",
              "    [theme=dark] .colab-df-convert:hover {\n",
              "      background-color: #434B5C;\n",
              "      box-shadow: 0px 1px 3px 1px rgba(0, 0, 0, 0.15);\n",
              "      filter: drop-shadow(0px 1px 2px rgba(0, 0, 0, 0.3));\n",
              "      fill: #FFFFFF;\n",
              "    }\n",
              "  </style>\n",
              "\n",
              "    <script>\n",
              "      const buttonEl =\n",
              "        document.querySelector('#df-c48c2c88-0b1c-4959-9158-aedd148c6a25 button.colab-df-convert');\n",
              "      buttonEl.style.display =\n",
              "        google.colab.kernel.accessAllowed ? 'block' : 'none';\n",
              "\n",
              "      async function convertToInteractive(key) {\n",
              "        const element = document.querySelector('#df-c48c2c88-0b1c-4959-9158-aedd148c6a25');\n",
              "        const dataTable =\n",
              "          await google.colab.kernel.invokeFunction('convertToInteractive',\n",
              "                                                    [key], {});\n",
              "        if (!dataTable) return;\n",
              "\n",
              "        const docLinkHtml = 'Like what you see? Visit the ' +\n",
              "          '<a target=\"_blank\" href=https://colab.research.google.com/notebooks/data_table.ipynb>data table notebook</a>'\n",
              "          + ' to learn more about interactive tables.';\n",
              "        element.innerHTML = '';\n",
              "        dataTable['output_type'] = 'display_data';\n",
              "        await google.colab.output.renderOutput(dataTable, element);\n",
              "        const docLink = document.createElement('div');\n",
              "        docLink.innerHTML = docLinkHtml;\n",
              "        element.appendChild(docLink);\n",
              "      }\n",
              "    </script>\n",
              "  </div>\n",
              "\n",
              "\n",
              "    <div id=\"df-2da77e68-7a75-4a49-b631-2ce41cf2b4ca\">\n",
              "      <button class=\"colab-df-quickchart\" onclick=\"quickchart('df-2da77e68-7a75-4a49-b631-2ce41cf2b4ca')\"\n",
              "                title=\"Suggest charts\"\n",
              "                style=\"display:none;\">\n",
              "\n",
              "<svg xmlns=\"http://www.w3.org/2000/svg\" height=\"24px\"viewBox=\"0 0 24 24\"\n",
              "     width=\"24px\">\n",
              "    <g>\n",
              "        <path d=\"M19 3H5c-1.1 0-2 .9-2 2v14c0 1.1.9 2 2 2h14c1.1 0 2-.9 2-2V5c0-1.1-.9-2-2-2zM9 17H7v-7h2v7zm4 0h-2V7h2v10zm4 0h-2v-4h2v4z\"/>\n",
              "    </g>\n",
              "</svg>\n",
              "      </button>\n",
              "\n",
              "<style>\n",
              "  .colab-df-quickchart {\n",
              "      --bg-color: #E8F0FE;\n",
              "      --fill-color: #1967D2;\n",
              "      --hover-bg-color: #E2EBFA;\n",
              "      --hover-fill-color: #174EA6;\n",
              "      --disabled-fill-color: #AAA;\n",
              "      --disabled-bg-color: #DDD;\n",
              "  }\n",
              "\n",
              "  [theme=dark] .colab-df-quickchart {\n",
              "      --bg-color: #3B4455;\n",
              "      --fill-color: #D2E3FC;\n",
              "      --hover-bg-color: #434B5C;\n",
              "      --hover-fill-color: #FFFFFF;\n",
              "      --disabled-bg-color: #3B4455;\n",
              "      --disabled-fill-color: #666;\n",
              "  }\n",
              "\n",
              "  .colab-df-quickchart {\n",
              "    background-color: var(--bg-color);\n",
              "    border: none;\n",
              "    border-radius: 50%;\n",
              "    cursor: pointer;\n",
              "    display: none;\n",
              "    fill: var(--fill-color);\n",
              "    height: 32px;\n",
              "    padding: 0;\n",
              "    width: 32px;\n",
              "  }\n",
              "\n",
              "  .colab-df-quickchart:hover {\n",
              "    background-color: var(--hover-bg-color);\n",
              "    box-shadow: 0 1px 2px rgba(60, 64, 67, 0.3), 0 1px 3px 1px rgba(60, 64, 67, 0.15);\n",
              "    fill: var(--button-hover-fill-color);\n",
              "  }\n",
              "\n",
              "  .colab-df-quickchart-complete:disabled,\n",
              "  .colab-df-quickchart-complete:disabled:hover {\n",
              "    background-color: var(--disabled-bg-color);\n",
              "    fill: var(--disabled-fill-color);\n",
              "    box-shadow: none;\n",
              "  }\n",
              "\n",
              "  .colab-df-spinner {\n",
              "    border: 2px solid var(--fill-color);\n",
              "    border-color: transparent;\n",
              "    border-bottom-color: var(--fill-color);\n",
              "    animation:\n",
              "      spin 1s steps(1) infinite;\n",
              "  }\n",
              "\n",
              "  @keyframes spin {\n",
              "    0% {\n",
              "      border-color: transparent;\n",
              "      border-bottom-color: var(--fill-color);\n",
              "      border-left-color: var(--fill-color);\n",
              "    }\n",
              "    20% {\n",
              "      border-color: transparent;\n",
              "      border-left-color: var(--fill-color);\n",
              "      border-top-color: var(--fill-color);\n",
              "    }\n",
              "    30% {\n",
              "      border-color: transparent;\n",
              "      border-left-color: var(--fill-color);\n",
              "      border-top-color: var(--fill-color);\n",
              "      border-right-color: var(--fill-color);\n",
              "    }\n",
              "    40% {\n",
              "      border-color: transparent;\n",
              "      border-right-color: var(--fill-color);\n",
              "      border-top-color: var(--fill-color);\n",
              "    }\n",
              "    60% {\n",
              "      border-color: transparent;\n",
              "      border-right-color: var(--fill-color);\n",
              "    }\n",
              "    80% {\n",
              "      border-color: transparent;\n",
              "      border-right-color: var(--fill-color);\n",
              "      border-bottom-color: var(--fill-color);\n",
              "    }\n",
              "    90% {\n",
              "      border-color: transparent;\n",
              "      border-bottom-color: var(--fill-color);\n",
              "    }\n",
              "  }\n",
              "</style>\n",
              "\n",
              "      <script>\n",
              "        async function quickchart(key) {\n",
              "          const quickchartButtonEl =\n",
              "            document.querySelector('#' + key + ' button');\n",
              "          quickchartButtonEl.disabled = true;  // To prevent multiple clicks.\n",
              "          quickchartButtonEl.classList.add('colab-df-spinner');\n",
              "          try {\n",
              "            const charts = await google.colab.kernel.invokeFunction(\n",
              "                'suggestCharts', [key], {});\n",
              "          } catch (error) {\n",
              "            console.error('Error during call to suggestCharts:', error);\n",
              "          }\n",
              "          quickchartButtonEl.classList.remove('colab-df-spinner');\n",
              "          quickchartButtonEl.classList.add('colab-df-quickchart-complete');\n",
              "        }\n",
              "        (() => {\n",
              "          let quickchartButtonEl =\n",
              "            document.querySelector('#df-2da77e68-7a75-4a49-b631-2ce41cf2b4ca button');\n",
              "          quickchartButtonEl.style.display =\n",
              "            google.colab.kernel.accessAllowed ? 'block' : 'none';\n",
              "        })();\n",
              "      </script>\n",
              "    </div>\n",
              "\n",
              "    </div>\n",
              "  </div>\n"
            ],
            "application/vnd.google.colaboratory.intrinsic+json": {
              "type": "dataframe",
              "variable_name": "df",
              "summary": "{\n  \"name\": \"df\",\n  \"rows\": 2000,\n  \"fields\": [\n    {\n      \"column\": \"_identifier\",\n      \"properties\": {\n        \"dtype\": \"string\",\n        \"num_unique_values\": 2000,\n        \"samples\": [\n          \"oai:dspace.unza.zm:123456789/1397\",\n          \"oai:dspace.unza.zm:123456789/4877\",\n          \"oai:dspace.unza.zm:123456789/4579\"\n        ],\n        \"semantic_type\": \"\",\n        \"description\": \"\"\n      }\n    },\n    {\n      \"column\": \"_datestamp\",\n      \"properties\": {\n        \"dtype\": \"object\",\n        \"num_unique_values\": 1998,\n        \"samples\": [\n          \"2016-06-09T11:37:31Z\",\n          \"2016-06-09T11:33:21Z\",\n          \"2016-06-09T13:03:24Z\"\n        ],\n        \"semantic_type\": \"\",\n        \"description\": \"\"\n      }\n    },\n    {\n      \"column\": \"_setSpec\",\n      \"properties\": {\n        \"dtype\": \"category\",\n        \"num_unique_values\": 82,\n        \"samples\": [\n          \"com_123456789_1093=col_123456789_3584\",\n          \"com_123456789_289=col_123456789_290\",\n          \"com_123456789_289=col_123456789_293\"\n        ],\n        \"semantic_type\": \"\",\n        \"description\": \"\"\n      }\n    },\n    {\n      \"column\": \"title\",\n      \"properties\": {\n        \"dtype\": \"string\",\n        \"num_unique_values\": 1957,\n        \"samples\": [\n          \"Modelling the ecological niche of hookworm in Brazil based on climate\",\n          \"Factors affecting the provision of early childhood education governing Primary Schools.: A case of selected Schools in Kabompo District of North Western Province of Zambia\",\n          \"Natural Sciences Exams 1995\"\n        ],\n        \"semantic_type\": \"\",\n        \"description\": \"\"\n      }\n    },\n    {\n      \"column\": \"creator\",\n      \"properties\": {\n        \"dtype\": \"string\",\n        \"num_unique_values\": 1811,\n        \"samples\": [\n          \"Lukama, Kamalata Chinyama\",\n          \"Luwaya, Edwin\",\n          \"Mzumara-Mwanza, Dorothy\"\n        ],\n        \"semantic_type\": \"\",\n        \"description\": \"\"\n      }\n    },\n    {\n      \"column\": \"subject\",\n      \"properties\": {\n        \"dtype\": \"string\",\n        \"num_unique_values\": 1941,\n        \"samples\": [\n          \"Coronary heart disease--Diagnosis.=Autopsy.\",\n          \"Migration, Internal--Zambia=Refugees --Zambia\",\n          \"Social media=E-learning=University of Zambia=Teaching=Facebook\"\n        ],\n        \"semantic_type\": \"\",\n        \"description\": \"\"\n      }\n    },\n    {\n      \"column\": \"description\",\n      \"properties\": {\n        \"dtype\": \"string\",\n        \"num_unique_values\": 1769,\n        \"samples\": [\n          \"The main purpose of this research study was to evaluate levels of women participation in \\\\r\\\\nthe Adult Literacy programme in Kabompo District of North-western province.The study \\\\r\\\\nwas mainly meant to answer the questions raised as specified in the objectives. \\\\r\\\\nObjectives for the study included: establishing why women enrol in the Adult Literacy programme, to establish factors that force women to drop out from the adult Literacy programme, to find out what can be done to reduce the dropout rate of women in adult literacy classes.In an effort to come up with answers, the study used the survey design, where both qualitative and quantitative approaches were employed. In this case, the main instruments used for data collection included questionnaire and interview guides. Quantitative data was collected through the use of questionnaires that were administered on teachers and \\\\r\\\\ndata was collected qualitatively from adult literacy learners and education officials by \\\\r\\\\nway of focused group discussion and interview guides. Non- random sampling method,specifically purposive sampling technique and simple random sampling were used to select respondents. The total sample comprised 204 respondents. The population for the study included all the adult literacy learners. Informants were drawn from 10 schools that offered adult literacy and from Ministry of Education.The study established that women enrolled in adult literacy programmes for various reasons ranging from personal, socio-economic. The study further revealed factors causing low participation of women in literacy programme as emanating from personal,economic, health, family, institutional and cultural backgrounds.The study also revealed that although there had been initiatives and commitment to create opportunities for girls/women to be educated, there are strong forces counteracting these positive trends. Findings to the investigations indicated that there were a lot of factors which constrained women participation in literacy programmes. It is evident that despite \\\\r\\\\nthe realisation by the Government that literacy is an important part of human \\\\r\\\\ndevelopment, there is a problem arising from the lack of teaching and learning materials \\\\r\\\\nas well as the absence of trained teachers for adults. Additionally, lack of relevance of content taught is another reason why women dropout from the literacy programme \\\\r\\\\nThe study also revealed that there had been no consistent and coordinated policy on \\\\r\\\\nliteracy in Zambia. Therefore, without policy the future of programmes is questionable and thus cannot succeed.\",\n          \"Master of Education in Education and Development Studies=The study explored the effectiveness and sustainability of cost sharing policy in Kabwe urban\\\\r\\\\ndistrict. The study had three objectives: to examine the effectiveness of cost sharing on the\\\\r\\\\ndelivery of quality education; to assess different ways of developing quality education and to\\\\r\\\\nexplore possible mechanisms of sustaining cost sharing on the delivery of quality education.\\\\r\\\\nThe study engaged conceptual framework as a combination of effectiveness and\\\\r\\\\nsustainability to produce quality education. The study was guided by Neo-liberal Theory.\\\\r\\\\nThe study employed a case study. The target population consisted of parents /guardians with\\\\r\\\\npupils at secondary school, DEBS office, Head /Deputy Teachers, Teachers and Grade\\\\r\\\\nteachers who were purposively selected. Purposive sampling was also used to select four\\\\r\\\\nsecondary schools: Mukobeko, Kabwe, Broadway and Mine in Kabwe Urban District. The\\\\r\\\\ntotal study sampling was 156.\\\\r\\\\nThe instruments used for data collection included semi-structured interviews, focus group\\\\r\\\\ndiscussion guide and self-administered questionnaires. Qualitative data were collected and\\\\r\\\\nanalyzed as themes and sub-themes came out through thematic analysis. The study revealed\\\\r\\\\nhaving proper physical infrastructures, updated learning and teaching Aids and well trained\\\\r\\\\nacademic staff. The study also revealed that cost sharing was sustainable through lobbing\\\\r\\\\nsupport from well-wishers, levying pupils, reintroduction of school boards, record keeping as\\\\r\\\\nwell as income generating projects.\\\\r\\\\nBased on the findings of the study, it was concluded that the perception of seeing government\\\\r\\\\nas the biggest sponsor of education had caused many not to be willing to respond positively;\\\\r\\\\nattitudes towards payment of school fees by parents was negative; The study recommended\\\\r\\\\nthe following; government to ensure that funds were realized in good time; increase\\\\r\\\\nallocation of funds; put up strong and strict monitoring mechanism of funds.\",\n          \"The Prisons Service is one of the agencies of the Criminal Justice System in Zambia. The Zambian Criminal Justice System is founded on the Western concept of criminal justice. The concept is governed by the Roman Philosophy and legal notion Justitia whose justice is generally referred to as lextalionis.This concept defines crime as a violation of the state. Justice, therefore, focuses on establishing guilty and blame. Since justice is defined by intent and not by process, the interpersonal conflictual nature of crime is obscured and consequently crime comes to be seen as conflict between the individual and the state. The Judicial process works purely on legal terms devoid of moral or social dimensions. The Victim is represented by the state while the offender participates in the legal process only to attest to guilty. \\\\r\\\\nTaking into account the ever increasing crime rate in Zambia, and the intrinsic dependency of the criminal justice system on incarceration, more and more people continue to be locked up in prisons. The resultant is severe overcrowding in the penal institution. Zambia has a prison population of over 16, 000 prisoners against the official holding capacity of 5,265.\\\\r\\\\nThe use of participatory communicative approaches is essential in the administration of parole, as this would provide interventional measures aimed at reducing overcrowding in Zambian Prisons. Many people are in prison because of felons and other social crimes. Improved participatory communication in the administration of parole within the communities and the creation of linkages among key stakeholders in thecriminal justice system can help reduce criminal behaviour by providing parolees with community based  correctional interventions; acceptance, forgiveness, mentoring, job placements, family ties, increased spiritual care and counselling, networking for social support, and eventual reintegration of offenders into society as useful and productive law abiding citizens\"\n        ],\n        \"semantic_type\": \"\",\n        \"description\": \"\"\n      }\n    },\n    {\n      \"column\": \"date\",\n      \"properties\": {\n        \"dtype\": \"string\",\n        \"num_unique_values\": 1985,\n        \"samples\": [\n          \"2012-04-10T09:11:01Z=2012-04-10T09:11:01Z=2012-04-10\",\n          \"2013-07-18T10:30:07Z=2013-07-18T10:30:07Z=2013-07-18\",\n          \"2012-04-04T14:10:19Z=2012-04-04T14:10:19Z=2012-04-04\"\n        ],\n        \"semantic_type\": \"\",\n        \"description\": \"\"\n      }\n    },\n    {\n      \"column\": \"type\",\n      \"properties\": {\n        \"dtype\": \"category\",\n        \"num_unique_values\": 12,\n        \"samples\": [\n          \"Working Paper\",\n          \"Preprint\",\n          \"Other\"\n        ],\n        \"semantic_type\": \"\",\n        \"description\": \"\"\n      }\n    },\n    {\n      \"column\": \"identifier\",\n      \"properties\": {\n        \"dtype\": \"string\",\n        \"num_unique_values\": 1985,\n        \"samples\": [\n          \"http://hdl.handle.net/123456789/1164\",\n          \"http://hdl.handle.net/123456789/2521\",\n          \"http://hdl.handle.net/123456789/1151\"\n        ],\n        \"semantic_type\": \"\",\n        \"description\": \"\"\n      }\n    },\n    {\n      \"column\": \"language\",\n      \"properties\": {\n        \"dtype\": \"category\",\n        \"num_unique_values\": 4,\n        \"samples\": [\n          \"en_US\",\n          \"fr\",\n          \"en\"\n        ],\n        \"semantic_type\": \"\",\n        \"description\": \"\"\n      }\n    },\n    {\n      \"column\": \"format\",\n      \"properties\": {\n        \"dtype\": \"category\",\n        \"num_unique_values\": 14,\n        \"samples\": [\n          \"application/pdf=application/pdf=application/pdf=application/pdf=application/pdf=application/pdf=application/pdf=application/pdf=application/pdf=application/pdf=application/pdf=application/pdf=application/pdf=application/pdf=application/pdf\",\n          \"application/octet-stream=audio/basic=audio/basic=audio/basic=audio/basic=audio/basic=audio/basic=audio/basic=audio/basic=audio/basic\",\n          \"application/pdf\"\n        ],\n        \"semantic_type\": \"\",\n        \"description\": \"\"\n      }\n    }\n  ]\n}"
            }
          },
          "metadata": {},
          "execution_count": 10
        }
      ],
      "source": [
        "df.head(3)"
      ]
    },
    {
      "cell_type": "code",
      "source": [
        "df['description'].head(3)"
      ],
      "metadata": {
        "colab": {
          "base_uri": "https://localhost:8080/",
          "height": 178
        },
        "id": "QbxMaxNGsf-6",
        "outputId": "6908b4e0-82bb-48a6-daf9-501a75e406ae"
      },
      "execution_count": null,
      "outputs": [
        {
          "output_type": "execute_result",
          "data": {
            "text/plain": [
              "0    Morphological characterization was done on thr...\n",
              "1    The purpose of the study was to evaluate the u...\n",
              "2    M.ED=The purpose of the study was to assess th...\n",
              "Name: description, dtype: object"
            ],
            "text/html": [
              "<div>\n",
              "<style scoped>\n",
              "    .dataframe tbody tr th:only-of-type {\n",
              "        vertical-align: middle;\n",
              "    }\n",
              "\n",
              "    .dataframe tbody tr th {\n",
              "        vertical-align: top;\n",
              "    }\n",
              "\n",
              "    .dataframe thead th {\n",
              "        text-align: right;\n",
              "    }\n",
              "</style>\n",
              "<table border=\"1\" class=\"dataframe\">\n",
              "  <thead>\n",
              "    <tr style=\"text-align: right;\">\n",
              "      <th></th>\n",
              "      <th>description</th>\n",
              "    </tr>\n",
              "  </thead>\n",
              "  <tbody>\n",
              "    <tr>\n",
              "      <th>0</th>\n",
              "      <td>Morphological characterization was done on thr...</td>\n",
              "    </tr>\n",
              "    <tr>\n",
              "      <th>1</th>\n",
              "      <td>The purpose of the study was to evaluate the u...</td>\n",
              "    </tr>\n",
              "    <tr>\n",
              "      <th>2</th>\n",
              "      <td>M.ED=The purpose of the study was to assess th...</td>\n",
              "    </tr>\n",
              "  </tbody>\n",
              "</table>\n",
              "</div><br><label><b>dtype:</b> object</label>"
            ]
          },
          "metadata": {},
          "execution_count": 11
        }
      ]
    },
    {
      "cell_type": "code",
      "execution_count": null,
      "metadata": {
        "cellView": "form",
        "collapsed": true,
        "id": "0Kg_fpCQvbfz"
      },
      "outputs": [],
      "source": [
        "from google.colab import sheets\n",
        "sheet = sheets.InteractiveSheet(df=df)"
      ]
    },
    {
      "cell_type": "code",
      "execution_count": null,
      "metadata": {
        "collapsed": true,
        "id": "xIOuEpydxHUm"
      },
      "outputs": [],
      "source": [
        "df.tail(4)"
      ]
    },
    {
      "cell_type": "code",
      "execution_count": null,
      "metadata": {
        "collapsed": true,
        "id": "qIaE0tV0xOPD"
      },
      "outputs": [],
      "source": [
        "df.columns"
      ]
    },
    {
      "cell_type": "code",
      "execution_count": null,
      "metadata": {
        "collapsed": true,
        "id": "l43T8kxExWkF"
      },
      "outputs": [],
      "source": [
        "df.shape"
      ]
    },
    {
      "cell_type": "code",
      "execution_count": null,
      "metadata": {
        "collapsed": true,
        "id": "eMHNGHSoxY6J"
      },
      "outputs": [],
      "source": [
        "df.index"
      ]
    },
    {
      "cell_type": "code",
      "execution_count": null,
      "metadata": {
        "collapsed": true,
        "id": "etKIw_r7xtM1"
      },
      "outputs": [],
      "source": [
        "df.dtypes"
      ]
    },
    {
      "cell_type": "code",
      "execution_count": null,
      "metadata": {
        "collapsed": true,
        "id": "XbB6vXugx4Ga"
      },
      "outputs": [],
      "source": [
        "df.describe"
      ]
    },
    {
      "cell_type": "code",
      "execution_count": null,
      "metadata": {
        "collapsed": true,
        "id": "OOxUXJm-yDcd"
      },
      "outputs": [],
      "source": [
        "df.isnull().sum()"
      ]
    },
    {
      "cell_type": "code",
      "execution_count": null,
      "metadata": {
        "collapsed": true,
        "id": "9CiZ1CbpyOrf"
      },
      "outputs": [],
      "source": [
        "df.isnull().mean()*100"
      ]
    },
    {
      "cell_type": "code",
      "execution_count": null,
      "metadata": {
        "collapsed": true,
        "id": "gFQmFmUdyo5l"
      },
      "outputs": [],
      "source": [
        "df.notnull()"
      ]
    },
    {
      "cell_type": "code",
      "execution_count": null,
      "metadata": {
        "collapsed": true,
        "id": "oQ1L0Wn_zg4c"
      },
      "outputs": [],
      "source": [
        "df.notnull().sum()"
      ]
    },
    {
      "cell_type": "code",
      "execution_count": null,
      "metadata": {
        "collapsed": true,
        "id": "Tw219FSBzoG_"
      },
      "outputs": [],
      "source": [
        "df.dropna"
      ]
    },
    {
      "cell_type": "code",
      "execution_count": null,
      "metadata": {
        "id": "ivaa246Tz3-l"
      },
      "outputs": [],
      "source": [
        "df.duplicated().sum()"
      ]
    },
    {
      "cell_type": "code",
      "execution_count": null,
      "metadata": {
        "collapsed": true,
        "id": "lUszmDao0DC8"
      },
      "outputs": [],
      "source": [
        "df.mean"
      ]
    },
    {
      "cell_type": "code",
      "execution_count": null,
      "metadata": {
        "collapsed": true,
        "id": "h_LanhrY03kU"
      },
      "outputs": [],
      "source": [
        "df.median"
      ]
    },
    {
      "cell_type": "markdown",
      "metadata": {
        "id": "GOqXsfU_AhYL"
      },
      "source": [
        "### Exploratory Data Analysis Summary\n",
        "\n",
        "In exploring the dataset, I applied several Pandas commands to better understand its structure, quality, and key features.\n",
        "\n",
        "- I began by using `df.shape`, `df.head` and `df.tail(4)` to see the overall size of the dataset and preview the first and last few records. This helped confirm that the data was loaded correctly.  \n",
        "- The `df.dtypes` command revealed the data types of each column, while `df.describe()` provided summary statistics such as minimum, maximum, mean, and standard deviation for numerical fields. I also checked the central tendencies using `df.mean()` and `df.median()`.  \n",
        "- To assess data quality, I used `df.isnull().sum()` and `df.isnull().mean()*100` to identify missing values and calculate their percentage. The complementary command `df.notnull().sum()` helped confirm how much complete data was available, while `df.dropna()` showed the effect of removing missing records.  \n",
        "- I checked for duplicate entries with `df.duplicated().sum()`, which is important to avoid biased results during analysis.\n",
        "\n",
        "### Interpretation of Findings\n",
        "\n",
        "From these commands, I obtained a clearer picture of the dataset. The use of shape, data types, and descriptive statistics established the foundation of its structure. Missing value checks highlighted areas that might require cleaning or imputation, while duplicate detection ensured data consistency. Grouping and correlation analysis revealed patterns and potential associations between variables. Overall, this exploration step provided the necessary understanding of the dataset’s quality and characteristics before moving into more advanced analysis.\n"
      ]
    },
    {
      "cell_type": "markdown",
      "metadata": {
        "id": "jdfe5ADI2GsI"
      },
      "source": [
        "Below are the mathematical operations on the data"
      ]
    },
    {
      "cell_type": "code",
      "execution_count": null,
      "metadata": {
        "id": "zeg2df0Q2sY-"
      },
      "outputs": [],
      "source": [
        "import matplotlib.pyplot as plt\n"
      ]
    },
    {
      "cell_type": "code",
      "execution_count": null,
      "metadata": {
        "id": "8wk45JVO2667"
      },
      "outputs": [],
      "source": [
        "numeric_cols = df.select_dtypes(include=['int64','float64']).columns"
      ]
    },
    {
      "cell_type": "markdown",
      "metadata": {
        "id": "zTlEZiHX23GR"
      },
      "source": []
    },
    {
      "cell_type": "code",
      "execution_count": null,
      "metadata": {
        "collapsed": true,
        "id": "7ccafc97"
      },
      "outputs": [],
      "source": [
        "# Installing gdown to directly use a link\n",
        "!pip install -q gdown\n",
        "\n",
        "import gdown\n",
        "import pandas as pd\n",
        "\n",
        "# File ID from the shared link\n",
        "file_id = \"1sErHRwqKS2O4wby5ocsrp2g4isWTGfzM\"\n",
        "url = f\"https://drive.google.com/uc?id={file_id}\"\n",
        "\n",
        "#This downloads the csv to local storage\n",
        "output = \"db-unza25-csc4792-datasets-dspace_unza_zm.csv\"\n",
        "gdown.download(url, output, quiet=False)\n",
        "\n",
        "# This reads the csv\n",
        "df = pd.read_csv(output, delimiter=\"|\", engine=\"python\")"
      ]
    },
    {
      "cell_type": "code",
      "execution_count": null,
      "metadata": {
        "id": "e9985759"
      },
      "outputs": [],
      "source": [
        "numeric_cols = df.select_dtypes(include=['int64','float64']).columns"
      ]
    },
    {
      "cell_type": "code",
      "execution_count": null,
      "metadata": {
        "id": "-oIfq4vY4EkF"
      },
      "outputs": [],
      "source": [
        "print(\"Numeric columns:\", numeric_cols.tolist())"
      ]
    },
    {
      "cell_type": "code",
      "execution_count": null,
      "metadata": {
        "id": "UUXawCid5LHA"
      },
      "outputs": [],
      "source": [
        "categorical_cols = ['language', 'type', 'subject']"
      ]
    },
    {
      "cell_type": "code",
      "execution_count": null,
      "metadata": {
        "collapsed": true,
        "id": "Pm6QZl4m6JL5"
      },
      "outputs": [],
      "source": [
        "for col in categorical_cols:\n",
        "    plt.figure(figsize=(12,6))\n",
        "    df[col].value_counts().head(20).plot(kind='bar')\n",
        "    plt.title(f'Top categories in {col}')\n",
        "    plt.xlabel(col)\n",
        "    plt.ylabel('Count')\n",
        "    plt.xticks(rotation=45, ha='right')\n",
        "    plt.grid(axis='y',linestyle='--',alpha=0.7)\n",
        "    plt.show()"
      ]
    },
    {
      "cell_type": "code",
      "execution_count": null,
      "metadata": {
        "collapsed": true,
        "id": "puA80E3T-PRg"
      },
      "outputs": [],
      "source": [
        "\n",
        "# # df['date'] = pd.to_datetime(df['date'], errors='coerce')\n",
        "\n",
        "# # df['year'] = df['date'].dt.year\n",
        "\n",
        "# # print(df[['date', 'year']].head())\n",
        "# # Convert your datetime column to pandas datetime\n",
        "# df['date'] = pd.to_datetime(df['date'], errors='coerce')\n",
        "\n",
        "# # Extract year and date\n",
        "# df['year'] = df['date'].dt.year           # Gets 2016\n",
        "# df['date_only'] = df['date'].dt.date      # Gets 2016-06-09\n",
        "# # print(df[['date', 'year']].head())"
      ]
    },
    {
      "cell_type": "code",
      "execution_count": null,
      "metadata": {
        "collapsed": true,
        "id": "9vm71zP1_HEU"
      },
      "outputs": [],
      "source": [
        "\n",
        "plt.figure(figsize=(10,6))\n",
        "df['creator'].value_counts().head(20).plot(kind='barh')\n",
        "\n",
        "plt.title(\"Top 20 Creators\")\n",
        "plt.xlabel(\"Count\")\n",
        "plt.ylabel(\"Creator\")\n",
        "plt.gca().invert_yaxis()  # So the top creator appears at the top\n",
        "plt.tight_layout()\n",
        "plt.show()\n"
      ]
    },
    {
      "cell_type": "code",
      "execution_count": null,
      "metadata": {
        "collapsed": true,
        "id": "7lyW6Ail_qsf"
      },
      "outputs": [],
      "source": [
        "print(df['date'].head(20))\n"
      ]
    },
    {
      "cell_type": "code",
      "execution_count": null,
      "metadata": {
        "id": "yI7Bh78WFJTe"
      },
      "outputs": [],
      "source": [
        "import matplotlib.pyplot as plt\n",
        "import pandas as pd\n",
        "\n",
        "# Count occurrences of each format type\n",
        "format_counts = df['format'].value_counts()\n",
        "\n",
        "# Plot a bar graph\n",
        "plt.figure(figsize=(10,6))\n",
        "format_counts.plot(kind='bar', color='skyblue')\n",
        "plt.title(\"Number of Records per Format Type\")\n",
        "plt.xlabel(\"Format\")\n",
        "plt.ylabel(\"Count\")\n",
        "plt.xticks(rotation=45)\n",
        "plt.show()\n"
      ]
    },
    {
      "cell_type": "markdown",
      "metadata": {
        "id": "00I-iqv2MgLP"
      },
      "source": [
        "## Data Understanding\n",
        "\n",
        " The dataset contains 1,977 records and 111 fields, primarily text-based metadata from UNZA’s institutional repository. Almost all columns (110) are unstructured text, while one is numeric. The metadata is inconsistent: some fields contain long descriptive text, while others hold only single terms (e.g., “Science”, “Lusaka”). Several key fields such as title, creator, subject, and type can be leveraged as classification features or target labels.\n",
        "\n",
        " Many columns are extremely sparse, for instance, Unnamed: 78 through Unnamed: 110 are almost empty with 1,976 missing values each. Certain fields contain frequent repetition of keywords (e.g., “Lusaka”, “teachers”), while others consist of completely unique entries (such as the combined metadata column). The dataset also includes noisy tokens (“however”, “therefore”) that don’t contribute structured meaning.\n",
        "\n",
        " Overall, challenges for metadata classification include missing values, sparse attributes, high cardinality in key fields, mixed vocabularies, and non-standard formatting. These issues will require normalization, stopword removal, and preprocessing to make the data suitable for modeling.\n",
        "\n"
      ]
    },
    {
      "cell_type": "markdown",
      "metadata": {
        "id": "9Rn7JYRkVQIx"
      },
      "source": [
        "#  3. Data Preparation\n",
        "\n",
        "In this section, we clean, transform, and prepare our dataset for the modeling phase.  \n",
        "The steps include handling missing values, correcting inconsistencies, creating new features, and transforming categorical variables.\n",
        "\n"
      ]
    },
    {
      "cell_type": "code",
      "execution_count": null,
      "metadata": {
        "id": "t74OJhJ2fC6J"
      },
      "outputs": [],
      "source": [
        "df.shape # printing the shape before cleaning"
      ]
    },
    {
      "cell_type": "markdown",
      "metadata": {
        "id": "K2UarnTzfoHy"
      },
      "source": [
        "So it has 2000 rows and 12 columns"
      ]
    },
    {
      "cell_type": "markdown",
      "metadata": {
        "id": "uwXYM85xyq8Y"
      },
      "source": [
        "### 3.1 Data Cleaning\n",
        "\n",
        "We begin by handling missing values, duplicates, and blank entries.  \n",
        "Cleaning ensures that our dataset is consistent and reliable for analysis.\n",
        "\n"
      ]
    },
    {
      "cell_type": "markdown",
      "metadata": {
        "id": "Y2rXEckjkYyz"
      },
      "source": [
        "I used this command to see the shape before cleaning for analysis purposes."
      ]
    },
    {
      "cell_type": "code",
      "execution_count": null,
      "metadata": {
        "id": "kyyurWupzqwA"
      },
      "outputs": [],
      "source": [
        "df.shape #The shape before cleaning\n"
      ]
    },
    {
      "cell_type": "markdown",
      "metadata": {
        "id": "M9dtbEv4khwU"
      },
      "source": [
        "\n",
        " We replaced blanks with `NaN` to standardize missing values. The missing values were then inspected to identify problematic fields. After that, we removed duplicate rows to prevent bias in the analysis. Then lastly, printed the shape before and after to show how much data was affected."
      ]
    },
    {
      "cell_type": "code",
      "execution_count": null,
      "metadata": {
        "id": "lBWzincAMiwg"
      },
      "outputs": [],
      "source": [
        "# Replacing empty spaces with NaN\n",
        "df = df.replace(r'^\\s*$', pd.NA, regex=True)\n",
        "\n",
        "# Finding the missing values per column\n",
        "df.isnull().sum()\n",
        "\n",
        "# Removing any duplicate rows\n",
        "duplicates_count = df.duplicated().sum()\n",
        "df = df.drop_duplicates()\n",
        "\n",
        "print(\"Number of duplicates removed:\", duplicates_count)\n",
        "print(\"Shape after cleaning:\", df.shape)\n",
        "\n"
      ]
    },
    {
      "cell_type": "markdown",
      "metadata": {
        "id": "fx4iHy4Ez51l"
      },
      "source": [
        "I checked the first 20 columns of the date column to see the format of the dates."
      ]
    },
    {
      "cell_type": "code",
      "execution_count": null,
      "metadata": {
        "id": "Z6-1V-CGP_sx"
      },
      "outputs": [],
      "source": [
        "df['date'].head(20)"
      ]
    },
    {
      "cell_type": "markdown",
      "metadata": {
        "id": "lQOQ3k5oRCD0"
      },
      "source": [
        " I did this to check the actual format of the date column as part of the data cleaning. The date column was first converted to string and split at the = character, with only the part after the last = being stored as date_clean. From this cleaned version, a 4-digit number representing the year was extracted using a regular expression and stored in the new year column, which was initially cast to a float type to safely handle missing or non-numeric values.\n",
        " I then beamed the first 10 rows of the original date, the cleaned date_clean, and the extracted year side by side to verify that the transformation worked as expected."
      ]
    },
    {
      "cell_type": "code",
      "execution_count": null,
      "metadata": {
        "id": "wmMcPXrdSAJ0"
      },
      "outputs": [],
      "source": [
        "# 2. Safe year extraction (works with your format: 2016-06-09T12:46:34Z)\n",
        "df['year'] = df['date'].astype(str).str[:4]  # Gets first 4 characters (2016)\n",
        "df['year'] = pd.to_numeric(df['year'], errors='coerce')  # Convert safely\n",
        "\n",
        "# 3. Create decade\n",
        "df['year'].head(3)\n"
      ]
    },
    {
      "cell_type": "markdown",
      "metadata": {
        "id": "z7jRvFsES-VZ"
      },
      "source": [
        "\n",
        "\n",
        "In the year column years were initially stored as a float. I converted this column to the Int64 type so that the years are represented as integers while still allowing NaN values to exist for missing or invalid entries.\n",
        "After doing this, I beamed the first 10 rows of the original date, the cleaned date_clean, and the finalized year column together to confirm that the conversion preserved valid years and correctly handled missing values."
      ]
    },
    {
      "cell_type": "code",
      "execution_count": null,
      "metadata": {
        "id": "FsiYXG7JS7xA"
      },
      "outputs": [],
      "source": [
        "df['year'] = df['year'].astype('Int64')  # keeps NaN but makes years integers\n",
        "\n",
        "df[['date', 'year']].head(10) # we now beam the data frame to confirm\n"
      ]
    },
    {
      "cell_type": "code",
      "source": [
        "df['decade'] = (df['year'] // 10) * 10\n",
        "print(df[['year','decade']].tail(20))"
      ],
      "metadata": {
        "id": "4HXDQwiP9xbS"
      },
      "execution_count": null,
      "outputs": []
    },
    {
      "cell_type": "code",
      "execution_count": null,
      "metadata": {
        "id": "0dibNyHbtrYQ"
      },
      "outputs": [],
      "source": [
        "text_cols = ['title', 'creator', 'subject', 'description', 'type', 'language']\n",
        "for col in text_cols:\n",
        "    df[col] = df[col].fillna(\"Unknown\") # Changing the fileds with NaN to uknown because i feel it will be easier to use info like that"
      ]
    },
    {
      "cell_type": "code",
      "source": [
        "df.isnull().sum()\n"
      ],
      "metadata": {
        "id": "q4_rqRcjUJQq"
      },
      "execution_count": null,
      "outputs": []
    },
    {
      "cell_type": "code",
      "execution_count": null,
      "metadata": {
        "collapsed": true,
        "id": "81d1h267t96N"
      },
      "outputs": [],
      "source": [
        "#  Used this to normalize categorical values by making them lowercase and removing spaces\n",
        "df['type'] = df['type'].str.lower().str.strip()\n",
        "df['language'] = df['language'].str.lower().str.strip()\n",
        "df.head(3)"
      ]
    },
    {
      "cell_type": "code",
      "execution_count": null,
      "metadata": {
        "id": "EGNj255VuY-I"
      },
      "outputs": [],
      "source": [
        "import re\n",
        "df['title'] = df['title'].astype(str).str.strip()\n",
        "df['description'] = df['description'].astype(str).str.replace(r\"<.*?>\", \"\", regex=True)\n",
        "#Used this to remove extra spaces and strip out any possible html tags"
      ]
    },
    {
      "cell_type": "code",
      "execution_count": null,
      "metadata": {
        "collapsed": true,
        "id": "I_vIEQoKvF9K"
      },
      "outputs": [],
      "source": [
        "df['year'] = df['year'].apply(\n",
        "    lambda x: x if pd.notna(x) and 1900 <= x <= 2025 else pd.NA\n",
        ")#Using this to make sure the information is within the vaid years\n",
        "#It will produce a Nan if you go beyond it\n",
        "\n",
        "df.head(2)"
      ]
    },
    {
      "cell_type": "markdown",
      "metadata": {
        "id": "bT3EQJeTi4rg"
      },
      "source": [
        "### Data cleaning summary\n",
        "I cleaned the dataset by first replacing empty spaces with NaN, removing duplicate rows, and then standardising missing values in textbased columns by filling them with “Unknown.”\n",
        "The dates were processed to extract valid years, and I kept only those between 1900 and 2025, while invalid entries were set to NaN.\n",
        "The text fields like type and language were normalized to lowercase and all extra spaces were removed.\n",
        "The title was cleaned of leading spaces, and description had any tags and unnecessary whitespace removed.\n",
        "After these steps, the data is consistent, free from duplicates, and ready for feature engineering with reliable year values and normalized text fields."
      ]
    },
    {
      "cell_type": "markdown",
      "metadata": {
        "id": "R6VvWjIu4RKI"
      },
      "source": [
        "### 3.2 Feature Engineering\n",
        "\n",
        "After cleaning the dataset, we created new features from existing ones to make the data more useful for modeling. This step helps the model learn better patterns by capturing hidden relationships and turning raw fields into more meaningful variables.\n"
      ]
    },
    {
      "cell_type": "markdown",
      "metadata": {
        "id": "miaF53v-CQhe"
      },
      "source": [
        "### Title and Description Length\n",
        "The amount of text in titles or descriptions can be informative. We created two new features:\n",
        "- title_length: number of words in the title\n",
        "-word_count: for the title\n",
        "- description_length: number of words in the description  \n",
        "This can help in understanding how detailed a record is."
      ]
    },
    {
      "cell_type": "code",
      "execution_count": null,
      "metadata": {
        "id": "N4-ek3BmP-Xg"
      },
      "outputs": [],
      "source": [
        "df['title_length'] = df['title'].astype(str).apply(len)        # number of characters\n",
        "df['word_count'] = df['title'].astype(str).apply(lambda x: len(x.split()))\n",
        "df['description_length'] = df['description'].astype(str).apply(lambda x: len(x.split()))\n",
        "df[['title', 'title_length', 'word_count','description_length']].head()"
      ]
    },
    {
      "cell_type": "markdown",
      "metadata": {
        "id": "BkqX2dLTBuH5"
      },
      "source": [
        "### Creating Decade from Year\n",
        "Instead of using the exact year, we grouped publications into decades. This reduces noise and highlights trends over time (e.g., comparing 1990s vs. 2000s instead of each year separately).\n"
      ]
    },
    {
      "cell_type": "code",
      "execution_count": null,
      "metadata": {
        "collapsed": true,
        "id": "Xhi1c4nS8aiK"
      },
      "outputs": [],
      "source": [
        "# Create decade variable (e.g., 1990–1999 → 1990s)\n",
        "df['decade'] = (df['year'] // 10) * 10\n",
        "df[['year', 'decade']].head(50)\n"
      ]
    },
    {
      "cell_type": "code",
      "execution_count": null,
      "metadata": {
        "id": "NdIU6_3a3Aji"
      },
      "outputs": [],
      "source": [
        "df['is_english'] = df['language'].apply(lambda x: 1 if x == 'english' else 1)\n",
        "df[['language', 'is_english']].head(5)"
      ]
    },
    {
      "cell_type": "code",
      "execution_count": null,
      "metadata": {
        "id": "T956zrWN3XuJ"
      },
      "outputs": [],
      "source": [
        "def categorize_type(x):\n",
        "    x = str(x).lower()   # convert to string + lowercase\n",
        "    if 'article' in x or 'report' in x or 'thesis' in x:\n",
        "        return 'text'\n",
        "    elif 'image' in x or 'dataset' in x:\n",
        "        return 'non-text'\n",
        "    else:\n",
        "        return 'other'\n",
        "\n",
        "df['type_group'] = df['type'].apply(categorize_type)\n",
        "df[['type', 'type_group']].head(50)\n"
      ]
    },
    {
      "cell_type": "code",
      "execution_count": null,
      "metadata": {
        "id": "JyDiMJEX5bqf"
      },
      "outputs": [],
      "source": [
        "keywords = ['study', 'evaluate', 'characterization', 'categorization']\n",
        "\n",
        "for kw in keywords:\n",
        "    df[f'has_{kw}'] = df['description'].astype(str).str.contains(kw, case=False).astype(int)\n",
        "\n",
        "df[['subject'] + [f'has_{kw}' for kw in keywords]].head(5)\n"
      ]
    },
    {
      "cell_type": "markdown",
      "metadata": {
        "id": "YHm1Nk8uE1fJ"
      },
      "source": []
    },
    {
      "cell_type": "code",
      "execution_count": null,
      "metadata": {
        "id": "RX5fc9rD35B8"
      },
      "outputs": [],
      "source": []
    },
    {
      "cell_type": "markdown",
      "metadata": {
        "id": "zLQXbfMw3cAZ"
      },
      "source": [
        "3.3 Data Transformation\n"
      ]
    },
    {
      "cell_type": "code",
      "execution_count": null,
      "metadata": {
        "id": "DRowOX0p374G"
      },
      "outputs": [],
      "source": [
        "from sklearn.preprocessing import StandardScaler, LabelEncoder\n",
        "from sklearn.feature_extraction.text import TfidfVectorizer\n",
        "from scipy.sparse import hstack\n",
        "import pandas as pd\n",
        "import numpy as np\n"
      ]
    },
    {
      "cell_type": "code",
      "execution_count": null,
      "metadata": {
        "id": "S6wN5mRO_ozS"
      },
      "outputs": [],
      "source": [
        "print(df.columns) #used this command to chck the column names"
      ]
    },
    {
      "cell_type": "code",
      "execution_count": null,
      "metadata": {
        "id": "IM_pelG8GA8L"
      },
      "outputs": [],
      "source": [
        "# Convert 'date' column to datetime, extract year, and group into decades so that it will be easy to read the publication year.\n",
        "df['decade'] = (df['year'] // 10) * 10\n",
        "print(df[['year', 'decade']].head())"
      ]
    },
    {
      "cell_type": "code",
      "execution_count": null,
      "metadata": {
        "id": "OUI1ON8fGLKp"
      },
      "outputs": [],
      "source": [
        "#Handle missing values in key fields so that our data is consistent and clean\n",
        "df['language'] = df['language'].fillna('Unknown')\n",
        "df['type'] = df['type'].fillna('Unknown')\n",
        "df['format'] = df['format'].fillna('Unknown')\n",
        "df['year'] = df['year'].fillna(df['year'].median())\n",
        "df['subject'] = df['subject'].fillna('Unknown')\n",
        "df['description'] = df['description'].fillna('')\n",
        "\n"
      ]
    },
    {
      "cell_type": "code",
      "source": [
        "df.isnull().sum()\n"
      ],
      "metadata": {
        "id": "Vy9kWPxWWeQo"
      },
      "execution_count": null,
      "outputs": []
    },
    {
      "cell_type": "code",
      "source": [
        "from sklearn.preprocessing import LabelEncoder, StandardScaler\n"
      ],
      "metadata": {
        "id": "Of4MLbVwWvK4"
      },
      "execution_count": null,
      "outputs": []
    },
    {
      "cell_type": "code",
      "execution_count": null,
      "metadata": {
        "id": "qSs3qg33GRQz"
      },
      "outputs": [],
      "source": [
        "# Initialize label encoders for categorical fields so that we can apply them i n our data frame\n",
        "le_type = LabelEncoder()\n",
        "le_lang = LabelEncoder()\n",
        "le_format = LabelEncoder()\n"
      ]
    },
    {
      "cell_type": "code",
      "execution_count": null,
      "metadata": {
        "id": "oqdueisIGcSe"
      },
      "outputs": [],
      "source": [
        "# Apply label encoding to categorical variables and store as new encoded columns\n",
        "df['type_encoded'] = le_type.fit_transform(df['type'].astype(str))\n",
        "df['language_encoded'] = le_lang.fit_transform(df['language'].astype(str))\n",
        "df['format_encoded'] = le_format.fit_transform(df['format'].astype(str))"
      ]
    },
    {
      "cell_type": "code",
      "execution_count": null,
      "metadata": {
        "id": "iO5ejXC6-KBg"
      },
      "outputs": [],
      "source": []
    },
    {
      "cell_type": "code",
      "execution_count": null,
      "metadata": {
        "id": "9GSWLmGSGlxI"
      },
      "outputs": [],
      "source": [
        "# Standardize numerical features so they have mean = 0 and standard deviation = 1 as we convert our categorial data\n",
        "scaler = StandardScaler()\n",
        "df[['title_length_scaled', 'word_count_scaled', 'description_length_scaled']] = scaler.fit_transform(\n",
        "    df[['title_length', 'word_count', 'description_length']]\n",
        ")\n"
      ]
    },
    {
      "cell_type": "code",
      "execution_count": null,
      "metadata": {
        "id": "M4C-3b0oG5Jv"
      },
      "outputs": [],
      "source": [
        "# Limit to the top 500 features (most informative words)\n",
        "tfidf = TfidfVectorizer(max_features=500)\n",
        "X_title = tfidf.fit_transform(df['title'].astype(str))\n"
      ]
    },
    {
      "cell_type": "code",
      "execution_count": null,
      "metadata": {
        "id": "33B0pctOHAvQ"
      },
      "outputs": [],
      "source": [
        "print(\"Shape of TF-IDF matrix:\", X_title.shape)"
      ]
    },
    {
      "cell_type": "markdown",
      "metadata": {
        "id": "tAWUcQrZshbn"
      },
      "source": [
        "Encoding"
      ]
    },
    {
      "cell_type": "code",
      "execution_count": null,
      "metadata": {
        "id": "1b9f6fdb"
      },
      "outputs": [],
      "source": [
        "# Define key metadata fields\n",
        "key_metadata_fields = ['title', 'creator', 'subject', 'description', 'year', 'type', 'language', 'format']\n",
        "\n",
        "# Calculate a completeness score for each row\n",
        "# This is a simple approach: count how many key fields are not 'Unknown' or NaN\n",
        "df['completeness_score'] = df[key_metadata_fields].apply(\n",
        "    lambda row: sum([1 for field in key_metadata_fields if pd.notna(row[field]) and row[field] != 'Unknown']),\n",
        "    axis=1\n",
        ")\n",
        "# Define a threshold for completeness (allowing up to 2 missing fields)\n",
        "completeness_threshold = len(key_metadata_fields) - 2\n",
        "\n",
        " #Mark records as complete (1) if they exceed the threshold, else incomplete (0)\n",
        "df['is_complete'] = (df['completeness_score'] > completeness_threshold).astype(int)\n",
        "\n",
        "# Encode completeness (0/1) using LabelEncoder for consistency with other categorical encodings\n",
        "le_completeness = LabelEncoder()\n",
        "df['completeness_encoded'] = le_completeness.fit_transform(df['is_complete'])\n",
        "\n",
        "print(df[['completeness_score', 'is_complete', 'completeness_encoded']].head())"
      ]
    },
    {
      "cell_type": "markdown",
      "metadata": {
        "id": "sqWMQ3Vo88pv"
      },
      "source": [
        "# 3.4 Data Preparation Summary\n"
      ]
    },
    {
      "cell_type": "markdown",
      "metadata": {
        "id": "tLACqxtA_NMT"
      },
      "source": [
        "# 1. Data Cleaning\n",
        "\n",
        "## Standardize missing values\n",
        "\n",
        "df = df.replace(r'^\\s*$', pd.NA, regex=True)\n",
        "\n",
        "Note: Standardizes missing values so they are recognized as NaN.\n",
        "\n",
        "\n",
        "## Remove duplicates\n",
        "df = df.drop_duplicates()\n",
        "\n",
        "Note: Ensures no record is counted twice, avoiding bias.\n",
        "\n",
        "\n",
        "## Fill text fields with 'Unknown'\n",
        "text_cols = ['title','creator','subject','description','type','language']\n",
        "for col in text_cols:\n",
        "df[col] = df[col].fillna('Unknown')\n",
        "\n",
        "Note: Preserves rows while making missing values explicit.\n",
        "\n",
        "\n",
        "## Normalize categories\n",
        "df['type'] = df['type'].str.lower().str.strip()\n",
        "df['language'] = df['language'].str.lower().str.strip()\n",
        "\n",
        "Note: Prevents duplicates like English, ENGLISH, english from being treated differently.\n",
        "\n",
        "\n",
        "## Clean text\n",
        "df['title'] = df['title'].astype(str).str.strip()\n",
        "df['description'] = df['description'].astype(str).str.replace(r\"<.*?>\",\"\",regex=True)\n",
        "\n",
        "Note: Removes unnecessary spaces and HTML tags from descriptions.\n",
        "\n",
        "\n",
        "## Date parsing\n",
        "df['date'] = pd.to_datetime(df['date'], errors='coerce')\n",
        "df['date_clean'] = df['date'].astype(str).str.split('=').str[-1]\n",
        "df['year'] = df['date_clean'].str.extract(r'(\\d{4})').astype(float)\n",
        "df['year'] = df['year'].astype('Int64')\n",
        "df['year'] = df['year'].apply(lambda x: x if pd.notna(x) and 1900 <= x <= 2025 else pd.NA)\n",
        "\n",
        "Note: Converts inconsistent date formats into valid year. Out-of-range values are set to missing.\n",
        "\n",
        "\n"
      ]
    },
    {
      "cell_type": "markdown",
      "metadata": {
        "id": "Ijtxn1JDA1Yk"
      },
      "source": [
        "## 2. Feature Engineering\n",
        "\n",
        "# Text length features\n",
        "df['title_length'] = df['title'].astype(str).apply(len)\n",
        "df['word_count'] = df['title'].astype(str).apply(lambda x: len(x.split()))\n",
        "df['description_length'] = df['description'].astype(str).apply(lambda x: len(x.split()))\n",
        "\n",
        "Note: Captures richness of text and longer records usually mean more complete metadata.\n",
        "\n",
        "# Group years into decades\n",
        "df['decade'] = (df['year'] // 10) * 10\n",
        "\n",
        "Note: Reduces noise from exact years, highlights trends.\n",
        "\n",
        "# Language flag\n",
        "df['is_english'] = df['language'].apply(lambda x: 1 if str(x).lower()=='english' else 0)\n",
        "\n",
        "Note: Marks English records for language-based analysis.\n",
        "\n",
        "# Type grouping\n",
        "def categorize_type(x):\n",
        "x = str(x).lower()\n",
        "if 'article' in x or 'report' in x or 'thesis' in x:\n",
        "return 'text'\n",
        "elif 'image' in x or 'dataset' in x:\n",
        "return 'non-text'\n",
        "else:\n",
        "return 'other'\n",
        "\n",
        "\n",
        "df['type_group'] = df['type'].apply(categorize_type)\n",
        "\n",
        "Note: Groups many document types into broad, interpretable categories.\n",
        "\n",
        "# Keyword flags\n",
        "keywords = ['agriculture','education','health','technology']\n",
        "for kw in keywords:\n",
        "df[f'has_{kw}'] = df['subject'].astype(str).str.contains(kw,case=False).astype(int)\n",
        "\n",
        "Note: Creates binary indicators for important subject keywords.\n",
        "\n",
        "# Completeness score\n",
        "key_fields = ['title','creator','subject','description','year','type','language','format']\n",
        "df['completeness_score'] = df[key_fields].apply(lambda row: sum([1 for f in key_fields if pd.notna(row[f]) and row[f]!=\"Unknown\"]), axis=1)\n",
        "\n",
        "\n",
        "threshold = len(key_fields)-2\n",
        "df['is_complete'] = (df['completeness_score'] > threshold).astype(int)\n",
        "\n",
        "Note: Scores each record’s metadata completeness. Used to create a target label.\n",
        "\n",
        "\n"
      ]
    },
    {
      "cell_type": "markdown",
      "source": [
        "### Additional Preparation Steps\n",
        "\n",
        "- **Encoding completeness labels**  \n",
        "  The binary completeness flag (`is_complete`) was encoded into a numerical form (`completeness_encoded`) using `LabelEncoder` to ensure compatibility with machine learning algorithms.  \n",
        "\n",
        "- **Scaling numerical features**  \n",
        "  Continuous variables such as `title_length`, `word_count`, and `description_length` were standardized using `StandardScaler`. This ensured that all numerical inputs had a mean of 0 and standard deviation of 1, preventing larger values from dominating model training.  \n",
        "\n",
        "- **Encoding categorical features**  \n",
        "  The categorical variables `type`, `language`, and `format` were transformed into numeric values through label encoding. This step enabled the model to process categorical information effectively.  \n",
        "\n",
        "- **TF-IDF vectorization**  \n",
        "  Text-based fields (e.g., `title` and `description`) were vectorized using the TF-IDF approach. This representation highlighted the importance of unique words while limiting dimensionality to the most informative terms.  \n",
        "\n",
        "- **Final dataset assembly**  \n",
        "  All engineered features, encoded variables, scaled numerical fields, and TF-IDF representations were consolidated into a final dataset. This dataset was then split into training and testing subsets, making it ready for the modeling phase.  \n",
        "\n"
      ],
      "metadata": {
        "id": "Z2sDtg5_Ck0-"
      }
    },
    {
      "cell_type": "markdown",
      "metadata": {
        "id": "sA5rFeNFpumo"
      },
      "source": [
        "#4. Modelling"
      ]
    },
    {
      "cell_type": "code",
      "execution_count": null,
      "metadata": {
        "id": "uVsDlcNtqW9x"
      },
      "outputs": [],
      "source": [
        "from sklearn.model_selection import train_test_split, cross_val_score, GridSearchCV\n",
        "from sklearn.ensemble import RandomForestClassifier\n",
        "from sklearn.tree import DecisionTreeClassifier\n",
        "from sklearn.linear_model import LogisticRegression\n",
        "from sklearn.svm import SVC\n",
        "from sklearn.metrics import classification_report, confusion_matrix, accuracy_score, precision_score, recall_score, f1_score\n",
        "from sklearn.preprocessing import StandardScaler\n",
        "import numpy as np\n",
        "import matplotlib.pyplot as plt\n",
        "import seaborn as sns"
      ]
    },
    {
      "cell_type": "markdown",
      "metadata": {
        "id": "DXLjp-v9rfT5"
      },
      "source": [
        "## Data Preparation for Modeling"
      ]
    },
    {
      "cell_type": "code",
      "execution_count": null,
      "metadata": {
        "id": "l1cOB-r_r5Lk"
      },
      "outputs": [],
      "source": [
        "# Handle missing values in features before modeling\n",
        "df['year'] = df['year'].fillna(df['year'].median())\n",
        "\n",
        "# Select features for modeling\n",
        "features = [\n",
        "    'title_length_scaled',\n",
        "    'word_count_scaled',\n",
        "    'description_length_scaled',\n",
        "    'language_encoded',\n",
        "    'type_encoded',\n",
        "    'format_encoded',\n",
        "    'completeness_encoded',\n",
        "    'year'\n",
        "]\n",
        "\n",
        "# Target = type_group (text vs non-text vs other)\n",
        "target = 'is_complete'\n",
        "\n",
        "# Drop rows with missing target\n",
        "model_data = df.dropna(subset=[target])\n",
        "\n",
        "# Ensure no missing values in features\n",
        "for feature in features:\n",
        "    if feature in model_data.columns:\n",
        "        model_data[feature] = model_data[feature].fillna(model_data[feature].median())\n",
        "\n",
        "X = model_data[features]\n",
        "y = model_data[target]\n",
        "\n",
        "print(f\"Feature matrix shape: {X.shape}\")\n",
        "print(f\"Target distribution:\\n{y.value_counts()}\")\n",
        "print(f\"Missing values in features:\\n{X.isnull().sum()}\")\n",
        "\n",
        "# ---------------------------\n",
        "# Step 2: Train-Test Split\n",
        "# ---------------------------\n",
        "X_train, X_test, y_train, y_test = train_test_split(\n",
        "    X, y, test_size=0.2, random_state=42, stratify=y\n",
        ")\n",
        "\n",
        "print(f\"\\nTraining set size: {X_train.shape[0]}\")\n",
        "print(f\"Test set size: {X_test.shape[0]}\")\n",
        "print(f\"Training target distribution:\\n{y_train.value_counts()}\")"
      ]
    },
    {
      "cell_type": "markdown",
      "source": [
        "## 4.3 Algorithm Selection and Training"
      ],
      "metadata": {
        "id": "RDNSFt1ijoS2"
      }
    },
    {
      "cell_type": "code",
      "source": [
        "# Initialize multiple algorithms for comparison\n",
        "algorithms = {\n",
        "    'Decision Tree': DecisionTreeClassifier(random_state=42, max_depth=10, min_samples_split=20),\n",
        "    'Random Forest': RandomForestClassifier(random_state=42, n_estimators=100, max_depth=10),\n",
        "    'Logistic Regression': LogisticRegression(random_state=42, max_iter=1000),\n",
        "    'SVM': SVC(random_state=42, probability=True)\n",
        "}\n",
        "\n",
        "# Dictionary to store trained models and results\n",
        "trained_models = {}\n",
        "model_results = {}\n",
        "\n",
        "print(\"Training models...\")\n",
        "print(\"=\" * 50)\n",
        "\n",
        "for name, algorithm in algorithms.items():\n",
        "    print(f\"\\nTraining {name}...\")\n",
        "\n",
        "    # Train the model\n",
        "    model = algorithm.fit(X_train, y_train)\n",
        "    trained_models[name] = model\n",
        "\n",
        "    # Make predictions\n",
        "    y_pred = model.predict(X_test)\n",
        "\n",
        "    # Calculate metrics\n",
        "    accuracy = accuracy_score(y_test, y_pred)\n",
        "    precision = precision_score(y_test, y_pred, average='weighted')\n",
        "    recall = recall_score(y_test, y_pred, average='weighted')\n",
        "    f1 = f1_score(y_test, y_pred, average='weighted')\n",
        "\n",
        "    # Store results\n",
        "    model_results[name] = {\n",
        "        'accuracy': accuracy,\n",
        "        'precision': precision,\n",
        "        'recall': recall,\n",
        "        'f1_score': f1,\n",
        "        'predictions': y_pred\n",
        "    }\n",
        "\n",
        "    print(f\"Accuracy: {accuracy:.4f}\")\n",
        "    print(f\"Precision: {precision:.4f}\")\n",
        "    print(f\"Recall: {recall:.4f}\")\n",
        "    print(f\"F1-Score: {f1:.4f}\")"
      ],
      "metadata": {
        "id": "v0Uhfhcujx3A"
      },
      "execution_count": null,
      "outputs": []
    },
    {
      "cell_type": "markdown",
      "source": [],
      "metadata": {
        "id": "KkBktdz8kAqp"
      }
    },
    {
      "cell_type": "markdown",
      "source": [
        "# 4.4 Model Comparison and Evaluation"
      ],
      "metadata": {
        "id": "hRghPsPYkRly"
      }
    },
    {
      "cell_type": "code",
      "source": [
        "# Create comparison dataframe\n",
        "results_df = pd.DataFrame(model_results).T\n",
        "results_df = results_df[['accuracy', 'precision', 'recall', 'f1_score']]\n",
        "\n",
        "print(\"\\n\" + \"=\"*60)\n",
        "print(\"MODEL COMPARISON SUMMARY\")\n",
        "print(\"=\"*60)\n",
        "print(results_df.round(4))\n",
        "\n",
        "# Find best performing model\n",
        "best_model_name = results_df['f1_score'].idxmax()\n",
        "best_model = trained_models[best_model_name]\n",
        "best_predictions = model_results[best_model_name]['predictions']\n",
        "\n",
        "print(f\"\\nBest performing model: {best_model_name}\")\n",
        "print(f\"Best F1-Score: {results_df.loc[best_model_name, 'f1_score']:.4f}\")\n",
        "\n",
        "## Detailed Evaluation of Best Model\n",
        "\n",
        "print(f\"\\n{'='*60}\")\n",
        "print(f\"DETAILED EVALUATION - {best_model_name}\")\n",
        "print(f\"{'='*60}\")\n",
        "\n",
        "# Classification report\n",
        "print(\"\\nClassification Report:\")\n",
        "print(classification_report(y_test, best_predictions))\n",
        "\n",
        "# Confusion Matrix\n",
        "cm = confusion_matrix(y_test, best_predictions)\n",
        "print(\"\\nConfusion Matrix:\")\n",
        "print(cm)\n",
        "\n",
        "# Visualize confusion matrix\n",
        "plt.figure(figsize=(8, 6))\n",
        "sns.heatmap(cm, annot=True, fmt='d', cmap='Blues',\n",
        "            xticklabels=['Incomplete', 'Complete'],\n",
        "            yticklabels=['Incomplete', 'Complete'])\n",
        "plt.title(f'Confusion Matrix - {best_model_name}')\n",
        "plt.ylabel('Actual')\n",
        "plt.xlabel('Predicted')\n",
        "plt.show()\n",
        "\n",
        "# Model comparison visualization\n",
        "plt.figure(figsize=(12, 8))\n",
        "results_df.plot(kind='bar', ax=plt.gca())\n",
        "plt.title('Model Performance Comparison')\n",
        "plt.ylabel('Score')\n",
        "plt.xlabel('Models')\n",
        "plt.legend(title='Metrics')\n",
        "plt.xticks(rotation=45)\n",
        "plt.tight_layout()\n",
        "plt.show()"
      ],
      "metadata": {
        "id": "ltwsPDh-kVip"
      },
      "execution_count": null,
      "outputs": []
    }
  ],
  "metadata": {
    "colab": {
      "provenance": [],
      "include_colab_link": true
    },
    "kernelspec": {
      "display_name": "Python 3",
      "name": "python3"
    },
    "language_info": {
      "name": "python"
    }
  },
  "nbformat": 4,
  "nbformat_minor": 0
}